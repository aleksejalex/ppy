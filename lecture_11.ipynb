{
 "cells": [
  {
   "cell_type": "markdown",
   "id": "7ed8199c",
   "metadata": {
    "slideshow": {
     "slide_type": "slide"
    }
   },
   "source": [
    "# PPY lecture #11, May 2023\n",
    "\n",
    "* Exporting data from Python I — XML and JSON\n",
    "* Zápočty\n",
    "* Q & A..."
   ]
  },
  {
   "cell_type": "markdown",
   "id": "4b4fa642",
   "metadata": {
    "slideshow": {
     "slide_type": "slide"
    }
   },
   "source": [
    "# XML\n",
    "\n",
    "From [Wikipedia](https://en.wikipedia.org/wiki/XML):\n",
    "\n",
    "> Extensible Markup Language (XML) is a markup language and file format for storing, transmitting, and reconstructing arbitrary data\n",
    "\n",
    "In Python, there is a built-in module `xml` which can export data in XML format. This module provides various functions and classes to parse, create and manipulate XML data."
   ]
  },
  {
   "cell_type": "markdown",
   "id": "5553f346",
   "metadata": {
    "slideshow": {
     "slide_type": "subslide"
    }
   },
   "source": [
    "1. Creating XML data: To create XML data, you can use the \"ElementTree\" module. Here's an example:"
   ]
  },
  {
   "cell_type": "code",
   "execution_count": 1,
   "id": "f41c784e",
   "metadata": {
    "slideshow": {
     "slide_type": "fragment"
    }
   },
   "outputs": [],
   "source": [
    "import xml.etree.ElementTree as ET"
   ]
  },
  {
   "cell_type": "code",
   "execution_count": 2,
   "id": "b1fc4ffd",
   "metadata": {
    "slideshow": {
     "slide_type": "fragment"
    }
   },
   "outputs": [],
   "source": [
    "root = ET.Element('root')\n",
    "\n",
    "child1 = ET.SubElement(root, 'child1')\n",
    "child1.text = 'This is child 1'\n",
    "\n",
    "child2 = ET.SubElement(root, 'child2', attrib={'name': 'test'})\n",
    "child2.text = 'This is child 2'\n",
    "\n",
    "tree = ET.ElementTree(root)\n",
    "tree.write('output.xml')"
   ]
  },
  {
   "cell_type": "markdown",
   "id": "8bbe0401",
   "metadata": {
    "slideshow": {
     "slide_type": "subslide"
    }
   },
   "source": [
    "2. Modifying XML data: To modify XML data, you can use the various methods provided by the \"ElementTree\" module, eg. [iter()](https://docs.python.org/3/library/xml.etree.elementtree.html#xml.etree.ElementTree.Element.iter). Here's an example:"
   ]
  },
  {
   "cell_type": "code",
   "execution_count": 3,
   "id": "78be3831",
   "metadata": {
    "slideshow": {
     "slide_type": "fragment"
    }
   },
   "outputs": [],
   "source": [
    "!cp output.xml input.xml"
   ]
  },
  {
   "cell_type": "code",
   "execution_count": 4,
   "id": "b971c154",
   "metadata": {
    "slideshow": {
     "slide_type": "fragment"
    }
   },
   "outputs": [],
   "source": [
    "tree = ET.parse('input.xml')\n",
    "root = tree.getroot()\n",
    "\n",
    "# Modify an attribute of an element\n",
    "for elem in root.iter('child1'):\n",
    "    elem.set('new_attribute', 'new_value')\n",
    "\n",
    "tree.write('output.xml')"
   ]
  },
  {
   "cell_type": "markdown",
   "id": "565a313f",
   "metadata": {
    "slideshow": {
     "slide_type": "subslide"
    }
   },
   "source": [
    "3. Parsing XML data: To parse XML data, you can use the \"ElementTree\" module which is a part of the \"xml\" module. This module provides an easy-to-use API for parsing XML data. Here's an example:"
   ]
  },
  {
   "cell_type": "code",
   "execution_count": 5,
   "id": "b6795fb9",
   "metadata": {
    "slideshow": {
     "slide_type": "subslide"
    }
   },
   "outputs": [
    {
     "name": "stdout",
     "output_type": "stream",
     "text": [
      "child1 {}\n",
      "child2 {'name': 'test'}\n"
     ]
    }
   ],
   "source": [
    "tree = ET.parse('input.xml')\n",
    "root = tree.getroot()\n",
    "\n",
    "# Iterate over child elements of root\n",
    "for child in root:\n",
    "    print(child.tag, child.attrib)"
   ]
  },
  {
   "cell_type": "markdown",
   "id": "610318e9",
   "metadata": {
    "slideshow": {
     "slide_type": "subslide"
    }
   },
   "source": [
    "Alternatively, you can use the `pandas` package..."
   ]
  },
  {
   "cell_type": "code",
   "execution_count": 6,
   "id": "cae2407e",
   "metadata": {
    "slideshow": {
     "slide_type": "fragment"
    }
   },
   "outputs": [],
   "source": [
    "import pandas as pd\n",
    "import numpy as np\n",
    "\n",
    "# create a sample dataframe\n",
    "df = pd.DataFrame({'number_column': [1.0, 2.0, np.nan], 'text_column': ['foo', 'bar', 'baz']})\n",
    "\n",
    "# write it as xml\n",
    "df.to_xml('table.xml', index=False)"
   ]
  },
  {
   "cell_type": "code",
   "execution_count": 7,
   "id": "0be7385a",
   "metadata": {
    "slideshow": {
     "slide_type": "subslide"
    }
   },
   "outputs": [
    {
     "name": "stdout",
     "output_type": "stream",
     "text": [
      "<?xml version='1.0' encoding='utf-8'?>\r\n",
      "<data>\r\n",
      "  <row>\r\n",
      "    <number_column>1.0</number_column>\r\n",
      "    <text_column>foo</text_column>\r\n",
      "  </row>\r\n",
      "  <row>\r\n",
      "    <number_column>2.0</number_column>\r\n",
      "    <text_column>bar</text_column>\r\n",
      "  </row>\r\n",
      "  <row>\r\n",
      "    <number_column/>\r\n",
      "    <text_column>baz</text_column>\r\n",
      "  </row>\r\n",
      "</data>\r\n"
     ]
    }
   ],
   "source": [
    "!cat table.xml"
   ]
  },
  {
   "cell_type": "code",
   "execution_count": 8,
   "id": "a87e4ce7",
   "metadata": {
    "slideshow": {
     "slide_type": "subslide"
    }
   },
   "outputs": [
    {
     "data": {
      "text/html": [
       "<div>\n",
       "<style scoped>\n",
       "    .dataframe tbody tr th:only-of-type {\n",
       "        vertical-align: middle;\n",
       "    }\n",
       "\n",
       "    .dataframe tbody tr th {\n",
       "        vertical-align: top;\n",
       "    }\n",
       "\n",
       "    .dataframe thead th {\n",
       "        text-align: right;\n",
       "    }\n",
       "</style>\n",
       "<table border=\"1\" class=\"dataframe\">\n",
       "  <thead>\n",
       "    <tr style=\"text-align: right;\">\n",
       "      <th></th>\n",
       "      <th>number_column</th>\n",
       "      <th>text_column</th>\n",
       "    </tr>\n",
       "  </thead>\n",
       "  <tbody>\n",
       "    <tr>\n",
       "      <th>0</th>\n",
       "      <td>1.0</td>\n",
       "      <td>foo</td>\n",
       "    </tr>\n",
       "    <tr>\n",
       "      <th>1</th>\n",
       "      <td>2.0</td>\n",
       "      <td>bar</td>\n",
       "    </tr>\n",
       "    <tr>\n",
       "      <th>2</th>\n",
       "      <td>NaN</td>\n",
       "      <td>baz</td>\n",
       "    </tr>\n",
       "  </tbody>\n",
       "</table>\n",
       "</div>"
      ],
      "text/plain": [
       "   number_column text_column\n",
       "0            1.0         foo\n",
       "1            2.0         bar\n",
       "2            NaN         baz"
      ]
     },
     "execution_count": 8,
     "metadata": {},
     "output_type": "execute_result"
    }
   ],
   "source": [
    "pd.read_xml('table.xml')"
   ]
  },
  {
   "cell_type": "markdown",
   "id": "4a9c0588",
   "metadata": {
    "slideshow": {
     "slide_type": "slide"
    }
   },
   "source": [
    "# JSON\n",
    "\n",
    "From [Wikipedia](https://en.wikipedia.org/wiki/JSON):\n",
    "    \n",
    "> JSON (JavaScript Object Notation) is an open standard file format and data interchange format that uses human-readable text to store and transmit data objects consisting of attribute–value pairs and arrays (or other serializable values)"
   ]
  },
  {
   "cell_type": "code",
   "execution_count": 9,
   "id": "15e88f2e",
   "metadata": {
    "slideshow": {
     "slide_type": "subslide"
    }
   },
   "outputs": [],
   "source": [
    "df.to_json('table.json')"
   ]
  },
  {
   "cell_type": "code",
   "execution_count": 10,
   "id": "fa55ae7e",
   "metadata": {
    "slideshow": {
     "slide_type": "fragment"
    }
   },
   "outputs": [
    {
     "name": "stdout",
     "output_type": "stream",
     "text": [
      "{\"number_column\":{\"0\":1.0,\"1\":2.0,\"2\":null},\"text_column\":{\"0\":\"foo\",\"1\":\"bar\",\"2\":\"baz\"}}"
     ]
    }
   ],
   "source": [
    "!cat table.json"
   ]
  },
  {
   "cell_type": "markdown",
   "id": "95c4fa69",
   "metadata": {
    "slideshow": {
     "slide_type": "subslide"
    }
   },
   "source": [
    "Or, even better:"
   ]
  },
  {
   "cell_type": "code",
   "execution_count": 11,
   "id": "0030738f",
   "metadata": {
    "slideshow": {
     "slide_type": "fragment"
    }
   },
   "outputs": [],
   "source": [
    "df.to_json('table.json', orient='records', lines=True)"
   ]
  },
  {
   "cell_type": "code",
   "execution_count": 12,
   "id": "bd7e35c3",
   "metadata": {
    "slideshow": {
     "slide_type": "fragment"
    }
   },
   "outputs": [
    {
     "name": "stdout",
     "output_type": "stream",
     "text": [
      "{\"number_column\":1.0,\"text_column\":\"foo\"}\r\n",
      "{\"number_column\":2.0,\"text_column\":\"bar\"}\r\n",
      "{\"number_column\":null,\"text_column\":\"baz\"}\r\n"
     ]
    }
   ],
   "source": [
    "!cat table.json"
   ]
  },
  {
   "cell_type": "markdown",
   "id": "82a66275",
   "metadata": {
    "slideshow": {
     "slide_type": "subslide"
    }
   },
   "source": [
    "And, using the native Python alternative... Python has built-in support for working with JSON data through the `json` module. The json module provides methods to encode Python objects as JSON strings and to decode JSON strings back into Python objects.\n",
    "\n",
    "Here's an example of how to encode a Python object as a JSON string using the json module:"
   ]
  },
  {
   "cell_type": "code",
   "execution_count": 13,
   "id": "0f3758c3",
   "metadata": {
    "slideshow": {
     "slide_type": "fragment"
    }
   },
   "outputs": [
    {
     "name": "stdout",
     "output_type": "stream",
     "text": [
      "{\"name\": \"John\", \"age\": 30, \"city\": \"New York\"}\n"
     ]
    }
   ],
   "source": [
    "import json\n",
    "\n",
    "data = {'name': 'John', 'age': 30, 'city': 'New York'}\n",
    "json_str = json.dumps(data)\n",
    "print(json_str)"
   ]
  },
  {
   "cell_type": "markdown",
   "id": "b3a0e261",
   "metadata": {
    "slideshow": {
     "slide_type": "subslide"
    }
   },
   "source": [
    "And here's an example of how to decode a JSON string back into a Python object:"
   ]
  },
  {
   "cell_type": "code",
   "execution_count": 14,
   "id": "7e643b52",
   "metadata": {
    "slideshow": {
     "slide_type": "fragment"
    }
   },
   "outputs": [
    {
     "name": "stdout",
     "output_type": "stream",
     "text": [
      "{'name': 'John', 'age': 30, 'city': 'New York'}\n"
     ]
    }
   ],
   "source": [
    "json_str = '{\"name\": \"John\", \"age\": 30, \"city\": \"New York\"}'\n",
    "data = json.loads(json_str)\n",
    "print(data)"
   ]
  },
  {
   "cell_type": "markdown",
   "id": "58ef6a5f",
   "metadata": {
    "slideshow": {
     "slide_type": "subslide"
    }
   },
   "source": [
    "You can also read/write files directly:\n",
    "\n",
    "```\n",
    "with open('data.json') as f:\n",
    "    data = json.load(f)\n",
    "    print(data)\n",
    "``` \n",
    "and\n",
    "\n",
    "```\n",
    "with open('data.json', 'w') as f:\n",
    "    json.dump(data, f)\n",
    "```"
   ]
  }
 ],
 "metadata": {
  "celltoolbar": "Slideshow",
  "kernelspec": {
   "display_name": "Python 3 (ipykernel)",
   "language": "python",
   "name": "python3"
  },
  "language_info": {
   "codemirror_mode": {
    "name": "ipython",
    "version": 3
   },
   "file_extension": ".py",
   "mimetype": "text/x-python",
   "name": "python",
   "nbconvert_exporter": "python",
   "pygments_lexer": "ipython3",
   "version": "3.10.8"
  }
 },
 "nbformat": 4,
 "nbformat_minor": 5
}
