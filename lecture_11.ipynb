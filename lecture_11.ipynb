{
 "cells": [
  {
   "cell_type": "markdown",
   "id": "7ed8199c",
   "metadata": {
    "slideshow": {
     "slide_type": "slide"
    }
   },
   "source": [
    "# PPY lecture #11, May 2 2023\n",
    "\n",
    "* Exporting data from Python I — XML and JSON\n",
    "* Zápočty\n",
    "* Q & A..."
   ]
  },
  {
   "cell_type": "markdown",
   "id": "c57b86b1",
   "metadata": {
    "slideshow": {
     "slide_type": "slide"
    }
   },
   "source": [
    "# XML\n",
    "\n",
    "From [Wikipedia](https://en.wikipedia.org/wiki/XML):\n",
    "\n",
    "> Extensible Markup Language (XML) is a markup language and file format for storing, transmitting, and reconstructing arbitrary data\n",
    "\n",
    "In Python, there is a built-in module `xml` which can export data in XML format. This module provides various functions and classes to parse, create and manipulate XML data."
   ]
  },
  {
   "cell_type": "markdown",
   "id": "33682383",
   "metadata": {
    "slideshow": {
     "slide_type": "subslide"
    }
   },
   "source": [
    "1. Creating XML data: To create XML data, you can use the \"ElementTree\" module. Here's an example:"
   ]
  },
  {
   "cell_type": "code",
   "execution_count": 1,
   "id": "1d3df5f1",
   "metadata": {
    "slideshow": {
     "slide_type": "fragment"
    }
   },
   "outputs": [],
   "source": [
    "import xml.etree.ElementTree as ET"
   ]
  },
  {
   "cell_type": "code",
   "execution_count": 2,
   "id": "b248e9bf",
   "metadata": {
    "slideshow": {
     "slide_type": "fragment"
    }
   },
   "outputs": [],
   "source": [
    "root = ET.Element('root')\n",
    "\n",
    "child1 = ET.SubElement(root, 'child1')\n",
    "child1.text = 'This is child 1'\n",
    "\n",
    "child2 = ET.SubElement(root, 'child2', attrib={'name': 'test'})\n",
    "child2.text = 'This is child 2'\n",
    "\n",
    "tree = ET.ElementTree(root)\n",
    "tree.write('output.xml')"
   ]
  },
  {
   "cell_type": "markdown",
   "id": "a3878d40",
   "metadata": {
    "slideshow": {
     "slide_type": "subslide"
    }
   },
   "source": [
    "2. Modifying XML data: To modify XML data, you can use the various methods provided by the \"ElementTree\" module, eg. [iter()](https://docs.python.org/3/library/xml.etree.elementtree.html#xml.etree.ElementTree.Element.iter). Here's an example:"
   ]
  },
  {
   "cell_type": "code",
   "execution_count": 3,
   "id": "1b59c3bc",
   "metadata": {
    "slideshow": {
     "slide_type": "fragment"
    }
   },
   "outputs": [],
   "source": [
    "!cp output.xml input.xml"
   ]
  },
  {
   "cell_type": "code",
   "execution_count": 4,
   "id": "e1972a31",
   "metadata": {
    "slideshow": {
     "slide_type": "fragment"
    }
   },
   "outputs": [],
   "source": [
    "tree = ET.parse('input.xml')\n",
    "root = tree.getroot()\n",
    "\n",
    "# Modify an attribute of an element\n",
    "for elem in root.iter('child1'):\n",
    "    elem.set('new_attribute', 'new_value')\n",
    "\n",
    "tree.write('output.xml')"
   ]
  },
  {
   "cell_type": "markdown",
   "id": "fe557967",
   "metadata": {
    "slideshow": {
     "slide_type": "subslide"
    }
   },
   "source": [
    "3. Parsing XML data: To parse XML data, you can use the \"ElementTree\" module which is a part of the \"xml\" module. This module provides an easy-to-use API for parsing XML data. Here's an example:"
   ]
  },
  {
   "cell_type": "code",
   "execution_count": 5,
   "id": "f564cedd",
   "metadata": {
    "slideshow": {
     "slide_type": "subslide"
    }
   },
   "outputs": [
    {
     "name": "stdout",
     "output_type": "stream",
     "text": [
      "child1 {'new_attribute': 'new_value'}\n",
      "child2 {'name': 'test'}\n"
     ]
    }
   ],
   "source": [
    "tree = ET.parse('output.xml')\n",
    "root = tree.getroot()\n",
    "\n",
    "# Iterate over child elements of root\n",
    "for child in root:\n",
    "    print(child.tag, child.attrib)"
   ]
  },
  {
   "cell_type": "markdown",
   "id": "44d4a74e",
   "metadata": {
    "slideshow": {
     "slide_type": "subslide"
    }
   },
   "source": [
    "Alternatively, you can use the `pandas` package..."
   ]
  },
  {
   "cell_type": "code",
   "execution_count": 6,
   "id": "cee37b24",
   "metadata": {
    "slideshow": {
     "slide_type": "fragment"
    }
   },
   "outputs": [],
   "source": [
    "import pandas as pd\n",
    "import numpy as np\n",
    "\n",
    "# create a sample dataframe\n",
    "df = pd.DataFrame({'number_column': [1.0, 2.0, np.nan], 'text_column': ['foo', 'bar', 'baz']})\n",
    "\n",
    "# write it as xml\n",
    "df.to_xml('table.xml', index=False)"
   ]
  },
  {
   "cell_type": "code",
   "execution_count": 7,
   "id": "8dc9dfe2",
   "metadata": {
    "slideshow": {
     "slide_type": "subslide"
    }
   },
   "outputs": [
    {
     "name": "stdout",
     "output_type": "stream",
     "text": [
      "<?xml version='1.0' encoding='utf-8'?>\r\n",
      "<data>\r\n",
      "  <row>\r\n",
      "    <number_column>1.0</number_column>\r\n",
      "    <text_column>foo</text_column>\r\n",
      "  </row>\r\n",
      "  <row>\r\n",
      "    <number_column>2.0</number_column>\r\n",
      "    <text_column>bar</text_column>\r\n",
      "  </row>\r\n",
      "  <row>\r\n",
      "    <number_column/>\r\n",
      "    <text_column>baz</text_column>\r\n",
      "  </row>\r\n",
      "</data>\r\n"
     ]
    }
   ],
   "source": [
    "!cat table.xml"
   ]
  },
  {
   "cell_type": "code",
   "execution_count": 8,
   "id": "57461aec",
   "metadata": {
    "slideshow": {
     "slide_type": "subslide"
    }
   },
   "outputs": [],
   "source": [
    "df = pd.read_xml('table.xml')"
   ]
  },
  {
   "cell_type": "code",
   "execution_count": 9,
   "id": "20647313",
   "metadata": {
    "slideshow": {
     "slide_type": "fragment"
    }
   },
   "outputs": [
    {
     "data": {
      "text/html": [
       "<div>\n",
       "<style scoped>\n",
       "    .dataframe tbody tr th:only-of-type {\n",
       "        vertical-align: middle;\n",
       "    }\n",
       "\n",
       "    .dataframe tbody tr th {\n",
       "        vertical-align: top;\n",
       "    }\n",
       "\n",
       "    .dataframe thead th {\n",
       "        text-align: right;\n",
       "    }\n",
       "</style>\n",
       "<table border=\"1\" class=\"dataframe\">\n",
       "  <thead>\n",
       "    <tr style=\"text-align: right;\">\n",
       "      <th></th>\n",
       "      <th>number_column</th>\n",
       "      <th>text_column</th>\n",
       "    </tr>\n",
       "  </thead>\n",
       "  <tbody>\n",
       "    <tr>\n",
       "      <th>0</th>\n",
       "      <td>1.0</td>\n",
       "      <td>foo</td>\n",
       "    </tr>\n",
       "    <tr>\n",
       "      <th>1</th>\n",
       "      <td>2.0</td>\n",
       "      <td>bar</td>\n",
       "    </tr>\n",
       "    <tr>\n",
       "      <th>2</th>\n",
       "      <td>NaN</td>\n",
       "      <td>baz</td>\n",
       "    </tr>\n",
       "  </tbody>\n",
       "</table>\n",
       "</div>"
      ],
      "text/plain": [
       "   number_column text_column\n",
       "0            1.0         foo\n",
       "1            2.0         bar\n",
       "2            NaN         baz"
      ]
     },
     "execution_count": 9,
     "metadata": {},
     "output_type": "execute_result"
    }
   ],
   "source": [
    "df"
   ]
  },
  {
   "cell_type": "code",
   "execution_count": 10,
   "id": "647657e4",
   "metadata": {
    "slideshow": {
     "slide_type": "subslide"
    }
   },
   "outputs": [
    {
     "name": "stdout",
     "output_type": "stream",
     "text": [
      "<class 'pandas.core.frame.DataFrame'>\n",
      "RangeIndex: 3 entries, 0 to 2\n",
      "Data columns (total 2 columns):\n",
      " #   Column         Non-Null Count  Dtype  \n",
      "---  ------         --------------  -----  \n",
      " 0   number_column  2 non-null      float64\n",
      " 1   text_column    3 non-null      object \n",
      "dtypes: float64(1), object(1)\n",
      "memory usage: 176.0+ bytes\n"
     ]
    }
   ],
   "source": [
    "df.info()"
   ]
  },
  {
   "cell_type": "markdown",
   "id": "979b8746",
   "metadata": {
    "slideshow": {
     "slide_type": "slide"
    }
   },
   "source": [
    "# JSON\n",
    "\n",
    "From [Wikipedia](https://en.wikipedia.org/wiki/JSON):\n",
    "    \n",
    "> JSON (JavaScript Object Notation) is an open standard file format and data interchange format that uses human-readable text to store and transmit data objects consisting of attribute–value pairs and arrays (or other serializable values)"
   ]
  },
  {
   "cell_type": "code",
   "execution_count": 11,
   "id": "750bf4ec",
   "metadata": {
    "slideshow": {
     "slide_type": "subslide"
    }
   },
   "outputs": [],
   "source": [
    "df.to_json('table.json')"
   ]
  },
  {
   "cell_type": "code",
   "execution_count": 12,
   "id": "c055c59b",
   "metadata": {
    "slideshow": {
     "slide_type": "fragment"
    }
   },
   "outputs": [
    {
     "name": "stdout",
     "output_type": "stream",
     "text": [
      "{\"number_column\":{\"0\":1.0,\"1\":2.0,\"2\":null},\"text_column\":{\"0\":\"foo\",\"1\":\"bar\",\"2\":\"baz\"}}"
     ]
    }
   ],
   "source": [
    "!cat table.json"
   ]
  },
  {
   "cell_type": "markdown",
   "id": "211b9062",
   "metadata": {
    "slideshow": {
     "slide_type": "subslide"
    }
   },
   "source": [
    "Or, even better:"
   ]
  },
  {
   "cell_type": "code",
   "execution_count": 13,
   "id": "284a34c9",
   "metadata": {
    "slideshow": {
     "slide_type": "fragment"
    }
   },
   "outputs": [],
   "source": [
    "df.to_json('table.jsonl', orient='records', lines=True)"
   ]
  },
  {
   "cell_type": "code",
   "execution_count": 14,
   "id": "d1b77c9f",
   "metadata": {
    "slideshow": {
     "slide_type": "fragment"
    }
   },
   "outputs": [
    {
     "name": "stdout",
     "output_type": "stream",
     "text": [
      "{\"number_column\":1.0,\"text_column\":\"foo\"}\r\n",
      "{\"number_column\":2.0,\"text_column\":\"bar\"}\r\n",
      "{\"number_column\":null,\"text_column\":\"baz\"}\r\n"
     ]
    }
   ],
   "source": [
    "!cat table.jsonl"
   ]
  },
  {
   "cell_type": "markdown",
   "id": "8592fb7e",
   "metadata": {
    "slideshow": {
     "slide_type": "subslide"
    }
   },
   "source": [
    "And, using the native Python alternative... Python has built-in support for working with JSON data through the `json` module. The json module provides methods to encode Python objects as JSON strings and to decode JSON strings back into Python objects.\n",
    "\n",
    "Here's an example of how to encode a Python object as a JSON string using the json module:"
   ]
  },
  {
   "cell_type": "code",
   "execution_count": 15,
   "id": "86425106",
   "metadata": {
    "slideshow": {
     "slide_type": "fragment"
    }
   },
   "outputs": [
    {
     "name": "stdout",
     "output_type": "stream",
     "text": [
      "{\"name\": \"John\", \"age\": 30, \"city\": \"New York\"}\n"
     ]
    }
   ],
   "source": [
    "import json\n",
    "\n",
    "data = {'name': 'John', 'age': 30, 'city': 'New York'}\n",
    "json_str = json.dumps(data)\n",
    "print(json_str)"
   ]
  },
  {
   "cell_type": "markdown",
   "id": "4bbb4a2b",
   "metadata": {
    "slideshow": {
     "slide_type": "subslide"
    }
   },
   "source": [
    "And here's an example of how to decode a JSON string back into a Python object:"
   ]
  },
  {
   "cell_type": "code",
   "execution_count": 16,
   "id": "acd1da24",
   "metadata": {
    "slideshow": {
     "slide_type": "fragment"
    }
   },
   "outputs": [
    {
     "name": "stdout",
     "output_type": "stream",
     "text": [
      "{'name': 'John', 'age': 30, 'city': 'New York'}\n",
      "<class 'dict'>\n"
     ]
    }
   ],
   "source": [
    "json_str = '{\"name\": \"John\", \"age\": 30, \"city\": \"New York\"}'\n",
    "data = json.loads(json_str)\n",
    "print(data)\n",
    "print(type(data))"
   ]
  },
  {
   "cell_type": "markdown",
   "id": "ec431866",
   "metadata": {
    "slideshow": {
     "slide_type": "subslide"
    }
   },
   "source": [
    "You can also read/write files directly:\n",
    "\n",
    "```\n",
    "with open('data.json') as f:\n",
    "    data = json.load(f)\n",
    "    print(data)\n",
    "``` \n",
    "and\n",
    "\n",
    "```\n",
    "with open('data.json', 'w') as f:\n",
    "    json.dump(data, f)\n",
    "```"
   ]
  }
 ],
 "metadata": {
  "celltoolbar": "Slideshow",
  "kernelspec": {
   "display_name": "Python 3 (ipykernel)",
   "language": "python",
   "name": "python3"
  },
  "language_info": {
   "codemirror_mode": {
    "name": "ipython",
    "version": 3
   },
   "file_extension": ".py",
   "mimetype": "text/x-python",
   "name": "python",
   "nbconvert_exporter": "python",
   "pygments_lexer": "ipython3",
   "version": "3.10.8"
  }
 },
 "nbformat": 4,
 "nbformat_minor": 5
}
