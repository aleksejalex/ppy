{
 "cells": [
  {
   "cell_type": "markdown",
   "id": "7ed8199c",
   "metadata": {
    "slideshow": {
     "slide_type": "slide"
    }
   },
   "source": [
    "# Welcome to PPY lecture #6, March 21 2023\n",
    "\n",
    "1. Object-oriented programming (OOP), part II\n",
    "2. Examples from the last time\n",
    "3. Bonus"
   ]
  },
  {
   "cell_type": "markdown",
   "id": "40d59b43",
   "metadata": {
    "slideshow": {
     "slide_type": "slide"
    }
   },
   "source": [
    "# Homework — Shapes\n",
    "\n",
    "Create a Shape class that represents a two-dimensional shape, with subclasses like Circle, Square, and Rectangle. Each subclass should have properties like the length of its sides, its area, and its perimeter. You can also define methods like `resize()` and `draw()`."
   ]
  },
  {
   "cell_type": "code",
   "execution_count": 1,
   "id": "1036b16a",
   "metadata": {
    "slideshow": {
     "slide_type": "subslide"
    }
   },
   "outputs": [],
   "source": [
    "class Shape:\n",
    "    def __init__(self, sides):\n",
    "        self.sides = sides\n",
    "    \n",
    "    def area(self):\n",
    "        pass\n",
    "    \n",
    "    def perimeter(self):\n",
    "        pass\n",
    "    \n",
    "    def resize(self, scale):\n",
    "        for i in range(len(self.sides)):\n",
    "            self.sides[i] *= scale\n",
    "    \n",
    "    def draw(self):\n",
    "        print(f'Drawing a {str(self)}')\n",
    "        pass"
   ]
  },
  {
   "cell_type": "code",
   "execution_count": 2,
   "id": "b49d32c5",
   "metadata": {
    "slideshow": {
     "slide_type": "fragment"
    }
   },
   "outputs": [],
   "source": [
    "import math"
   ]
  },
  {
   "cell_type": "code",
   "execution_count": 3,
   "id": "1b68bcae",
   "metadata": {
    "slideshow": {
     "slide_type": "subslide"
    }
   },
   "outputs": [],
   "source": [
    "class Circle(Shape):\n",
    "    def __init__(self, radius):\n",
    "        super().__init__([radius])\n",
    "    \n",
    "    def area(self):\n",
    "        return math.pi * self.sides[0]**2\n",
    "    \n",
    "    def perimeter(self):\n",
    "        return 2 * math.pi * self.sides[0]\n",
    "    \n",
    "    def __str__(self):\n",
    "        return f'circle with perimeter size {self.sides[0]}'"
   ]
  },
  {
   "cell_type": "code",
   "execution_count": 4,
   "id": "605f218b",
   "metadata": {
    "slideshow": {
     "slide_type": "subslide"
    }
   },
   "outputs": [],
   "source": [
    "class Square(Shape):\n",
    "    def __init__(self, side):\n",
    "        super().__init__([side]*4)\n",
    "    \n",
    "    def area(self):\n",
    "        return self.sides[0]**2\n",
    "    \n",
    "    def perimeter(self):\n",
    "        return 4 * self.sides[0]\n",
    "    \n",
    "    def __str__(self):\n",
    "        return f'square with side length of {self.sides[0]}'"
   ]
  },
  {
   "cell_type": "code",
   "execution_count": 5,
   "id": "790f39f8",
   "metadata": {
    "slideshow": {
     "slide_type": "subslide"
    }
   },
   "outputs": [],
   "source": [
    "class Rectangle(Shape):\n",
    "    def __init__(self, length, width):\n",
    "        super().__init__([length, width, length, width])\n",
    "    \n",
    "    def area(self):\n",
    "        return self.sides[0] * self.sides[1]\n",
    "    \n",
    "    def perimeter(self):\n",
    "        return 2 * (self.sides[0] + self.sides[1])\n",
    "    \n",
    "    def __str__(self):\n",
    "        return f'square with side lengths of {self.sides[0]} and {self.sides[1]}'"
   ]
  },
  {
   "cell_type": "code",
   "execution_count": 6,
   "id": "5377b0ac",
   "metadata": {
    "slideshow": {
     "slide_type": "subslide"
    }
   },
   "outputs": [
    {
     "name": "stdout",
     "output_type": "stream",
     "text": [
      "Drawing a circle with perimeter size 5\n",
      "Drawing a square with side length of 10\n",
      "Drawing a square with side lengths of 10 and 5\n"
     ]
    }
   ],
   "source": [
    "# Create some shapes\n",
    "circle = Circle(5)\n",
    "square = Square(10)\n",
    "rectangle = Rectangle(10, 5)\n",
    "\n",
    "# Draw the shapes (not really plots... yet!)\n",
    "circle.draw()\n",
    "square.draw()\n",
    "rectangle.draw()"
   ]
  },
  {
   "cell_type": "code",
   "execution_count": 7,
   "id": "c03f3c92",
   "metadata": {},
   "outputs": [
    {
     "name": "stdout",
     "output_type": "stream",
     "text": [
      "Circle area: 78.53981633974483\n",
      "Circle perimeter: 31.41592653589793\n",
      "Square area: 100\n",
      "Square perimeter: 40\n",
      "Rectangle area: 50\n",
      "Rectangle perimeter: 30\n"
     ]
    }
   ],
   "source": [
    "# Get the area and perimeter of each shape\n",
    "print(\"Circle area:\", circle.area()) # Output: Circle area: 78.53981633974483\n",
    "print(\"Circle perimeter:\", circle.perimeter()) # Output: Circle perimeter: 31.41592653589793\n",
    "print(\"Square area:\", square.area()) # Output: Square area: 100\n",
    "print(\"Square perimeter:\", square.perimeter()) # Output: Square perimeter: 40\n",
    "print(\"Rectangle area:\", rectangle.area()) # Output: Rectangle area: 50\n",
    "print(\"Rectangle perimeter:\", rectangle.perimeter()) # Output: Rectangle perimeter: 30"
   ]
  },
  {
   "cell_type": "code",
   "execution_count": 8,
   "id": "cf86a21a",
   "metadata": {},
   "outputs": [
    {
     "name": "stdout",
     "output_type": "stream",
     "text": [
      "Drawing a circle with perimeter size 10\n",
      "Drawing a square with side length of 5.0\n",
      "Drawing a square with side lengths of 15.0 and 7.5\n"
     ]
    }
   ],
   "source": [
    "# Resize the shapes\n",
    "circle.resize(2)\n",
    "square.resize(0.5)\n",
    "rectangle.resize(1.5)\n",
    "\n",
    "# \"Draw\" the shapes again\n",
    "circle.draw()\n",
    "square.draw()\n",
    "rectangle.draw()"
   ]
  },
  {
   "cell_type": "markdown",
   "id": "a445b133",
   "metadata": {
    "slideshow": {
     "slide_type": "slide"
    }
   },
   "source": [
    "# Examples from the last time\n",
    "\n",
    "1. Write a function that takes a list of strings as input and returns a dictionary that maps each string to its length. Use a dictionary comprehension to create the dictionary.\n",
    "\n",
    "```\n",
    "strings = ['hello', 'world', 'python', 'comprehensions']\n",
    "result = string_lengths(strings)\n",
    "print(result)  # {'hello': 5, 'world': 5, 'python': 6, 'comprehensions': 14}\n",
    "```"
   ]
  },
  {
   "cell_type": "code",
   "execution_count": 9,
   "id": "3263a873",
   "metadata": {
    "slideshow": {
     "slide_type": "subslide"
    }
   },
   "outputs": [],
   "source": [
    "def string_lengths(strings):\n",
    "    return {s: len(s) for s in strings}"
   ]
  },
  {
   "cell_type": "code",
   "execution_count": 10,
   "id": "6c001742",
   "metadata": {
    "slideshow": {
     "slide_type": "fragment"
    }
   },
   "outputs": [
    {
     "name": "stdout",
     "output_type": "stream",
     "text": [
      "{'hello': 5, 'world': 5, 'python': 6, 'comprehensions': 14}\n"
     ]
    }
   ],
   "source": [
    "strings = ['hello', 'world', 'python', 'comprehensions']\n",
    "result = string_lengths(strings)\n",
    "print(result)  # {'hello': 5, 'world': 5, 'python': 6, 'comprehensions': 14}"
   ]
  },
  {
   "cell_type": "markdown",
   "id": "f51d5c0b",
   "metadata": {
    "slideshow": {
     "slide_type": "subslide"
    }
   },
   "source": [
    "2. Write a function that takes a list of strings as input and returns a set containing all the unique words in the strings (i.e., excluding duplicates). Use a set comprehension to create the output set.\n",
    "\n",
    "```\n",
    "strings = ['hello world', 'world python', 'python python']\n",
    "result = unique_words(strings)\n",
    "print(result)  # {'hello', 'world', 'python'}\n",
    "```"
   ]
  },
  {
   "cell_type": "code",
   "execution_count": 11,
   "id": "bc478eb0",
   "metadata": {
    "slideshow": {
     "slide_type": "subslide"
    }
   },
   "outputs": [],
   "source": [
    "def unique_words(strings):\n",
    "    return {word for string in strings for word in string.split()}"
   ]
  },
  {
   "cell_type": "code",
   "execution_count": 12,
   "id": "8a937758",
   "metadata": {
    "slideshow": {
     "slide_type": "fragment"
    }
   },
   "outputs": [
    {
     "name": "stdout",
     "output_type": "stream",
     "text": [
      "{'hello', 'python', 'world'}\n"
     ]
    }
   ],
   "source": [
    "strings = ['hello world', 'world python', 'python python']\n",
    "result = unique_words(strings)\n",
    "print(result)  # {'hello', 'world', 'python'}"
   ]
  },
  {
   "cell_type": "markdown",
   "id": "afc22ddd",
   "metadata": {
    "slideshow": {
     "slide_type": "subslide"
    }
   },
   "source": [
    "3. Write a function that takes a dictionary mapping names to ages as input and returns a dictionary mapping ages to lists of names. Use a dictionary comprehension and a list comprehension to create the output dictionary.\n",
    "\n",
    "```\n",
    "name_age = {'Alice': 25, 'Bob': 30, 'Charlie': 25, 'David': 35, 'Eve': 30}\n",
    "result = age_to_names(name_age)\n",
    "print(result)  # {25: ['Alice', 'Charlie'], 30: ['Bob', 'Eve'], 35: ['David']}\n",
    "```"
   ]
  },
  {
   "cell_type": "code",
   "execution_count": 13,
   "id": "ff2c23ea",
   "metadata": {
    "slideshow": {
     "slide_type": "subslide"
    }
   },
   "outputs": [],
   "source": [
    "def age_to_names(name_to_age):\n",
    "    names = name_to_age.items()\n",
    "    ages = name_to_age.values()\n",
    "    return {age: [name for name, age_ in names if age_ == age] for age in set(ages)}"
   ]
  },
  {
   "cell_type": "code",
   "execution_count": 14,
   "id": "afce9e0f",
   "metadata": {
    "slideshow": {
     "slide_type": "fragment"
    }
   },
   "outputs": [
    {
     "name": "stdout",
     "output_type": "stream",
     "text": [
      "{25: ['Alice', 'Charlie'], 35: ['David'], 30: ['Bob', 'Eve']}\n"
     ]
    }
   ],
   "source": [
    "name_age = {'Alice': 25, 'Bob': 30, 'Charlie': 25, 'David': 35, 'Eve': 30}\n",
    "result = age_to_names(name_age)\n",
    "print(result)  # {25: ['Alice', 'Charlie'], 30: ['Bob', 'Eve'], 35: ['David']}"
   ]
  },
  {
   "cell_type": "markdown",
   "id": "a8cc01fd",
   "metadata": {
    "slideshow": {
     "slide_type": "subslide"
    }
   },
   "source": [
    "4. Write a function that takes a list of numbers as input and returns a generator that yields only the numbers that are greater than the average of all the numbers in the input list. Use a generator comprehension to create the generator.\n",
    "\n",
    "```\n",
    "numbers = [1, 2, 3, 4, 5, 6, 7, 8, 9, 10]\n",
    "for num in greater_than_average(numbers):\n",
    "    print(num)\n",
    "# output:\n",
    "# 6\n",
    "# 7\n",
    "# 8\n",
    "# 9\n",
    "# 10\n",
    "```"
   ]
  },
  {
   "cell_type": "code",
   "execution_count": 15,
   "id": "e1f8205f",
   "metadata": {
    "slideshow": {
     "slide_type": "subslide"
    }
   },
   "outputs": [],
   "source": [
    "def greater_than_average(numbers):\n",
    "    average = sum(numbers) / len(numbers)\n",
    "    return (num for num in numbers if num > average)"
   ]
  },
  {
   "cell_type": "code",
   "execution_count": 16,
   "id": "2c7b2bf3",
   "metadata": {
    "slideshow": {
     "slide_type": "fragment"
    }
   },
   "outputs": [
    {
     "name": "stdout",
     "output_type": "stream",
     "text": [
      "6\n",
      "7\n",
      "8\n",
      "9\n",
      "10\n"
     ]
    }
   ],
   "source": [
    "numbers = [1, 2, 3, 4, 5, 6, 7, 8, 9, 10]\n",
    "for num in greater_than_average(numbers):\n",
    "    print(num)"
   ]
  },
  {
   "cell_type": "markdown",
   "id": "9338274b",
   "metadata": {
    "slideshow": {
     "slide_type": "subslide"
    }
   },
   "source": [
    "5. Write a function that takes a list of numbers as input and returns a set containing all the numbers that are both even and divisible by 3. Use a set comprehension to create the output set.\n",
    "\n",
    "```\n",
    "numbers = [1, 2, 3, 4, 5, 6, 7, 8, 9, 10, 12, 18]\n",
    "result = even_and_divisible_by_three(numbers)\n",
    "print(result)  # {6, 12, 18}\n",
    "```"
   ]
  },
  {
   "cell_type": "code",
   "execution_count": 17,
   "id": "5d60be85",
   "metadata": {
    "slideshow": {
     "slide_type": "subslide"
    }
   },
   "outputs": [],
   "source": [
    "def even_and_divisible_by_three(numbers):\n",
    "    return {num for num in numbers if num % 2 == 0 and num % 3 == 0}"
   ]
  },
  {
   "cell_type": "code",
   "execution_count": 18,
   "id": "38f78dca",
   "metadata": {
    "slideshow": {
     "slide_type": "fragment"
    }
   },
   "outputs": [
    {
     "name": "stdout",
     "output_type": "stream",
     "text": [
      "{18, 12, 6}\n"
     ]
    }
   ],
   "source": [
    "numbers = [1, 2, 3, 4, 5, 6, 7, 8, 9, 10, 12, 18]\n",
    "result = even_and_divisible_by_three(numbers)\n",
    "print(result)  # {6, 12, 18}"
   ]
  },
  {
   "cell_type": "markdown",
   "id": "966d7e55",
   "metadata": {
    "slideshow": {
     "slide_type": "slide"
    }
   },
   "source": [
    "# Do we have time for the bonus topic?"
   ]
  }
 ],
 "metadata": {
  "celltoolbar": "Slideshow",
  "kernelspec": {
   "display_name": "Python 3 (ipykernel)",
   "language": "python",
   "name": "python3"
  },
  "language_info": {
   "codemirror_mode": {
    "name": "ipython",
    "version": 3
   },
   "file_extension": ".py",
   "mimetype": "text/x-python",
   "name": "python",
   "nbconvert_exporter": "python",
   "pygments_lexer": "ipython3",
   "version": "3.10.8"
  }
 },
 "nbformat": 4,
 "nbformat_minor": 5
}
