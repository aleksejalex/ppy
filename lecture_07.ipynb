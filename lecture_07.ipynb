{
 "cells": [
  {
   "cell_type": "markdown",
   "id": "7ed8199c",
   "metadata": {
    "slideshow": {
     "slide_type": "slide"
    }
   },
   "source": [
    "# Welcome to PPY lecture #7, March 28 2023\n",
    "\n",
    "Focus: [functional programming](https://en.wikipedia.org/wiki/Functional_programming) in Python\n",
    "* lambda functions\n",
    "* `map()`\n",
    "* `filter()`\n",
    "* `reduce()`\n",
    "* `zip()`"
   ]
  },
  {
   "cell_type": "markdown",
   "id": "9731c7b8",
   "metadata": {
    "slideshow": {
     "slide_type": "slide"
    }
   },
   "source": [
    "**But first...** (another bonus for the students that woke up earlier that ususal:)"
   ]
  },
  {
   "cell_type": "markdown",
   "id": "4f20b31a",
   "metadata": {
    "slideshow": {
     "slide_type": "slide"
    }
   },
   "source": [
    "![Morpheus](https://cdn-media-1.freecodecamp.org/images/1*exgznl7z65gttRxLsMAV2A.png)"
   ]
  },
  {
   "cell_type": "markdown",
   "id": "e545925c",
   "metadata": {
    "slideshow": {
     "slide_type": "subslide"
    }
   },
   "source": [
    "# Functional programming\n",
    "\n",
    "In functional programming, the focus is on describing what should be computed, rather than how to compute it. Functional programming is based on the idea of applying mathematical functions to data, where the function takes input arguments and produces an output value, without side effects. In functional programming, the program flow is controlled by composing functions and passing data between them.\n",
    "\n",
    "The main advantage of functional programming over imperative programming is that it is often more declarative, concise, and easier to reason about. Functional programs are often easier to parallelize and more resilient to errors, as they don't rely on shared mutable state. However, functional programming can be less intuitive for programmers who are used to imperative programming, and it can be harder to optimize for performance, as it often involves creating intermediate data structures."
   ]
  },
  {
   "cell_type": "markdown",
   "id": "9f1c288d",
   "metadata": {
    "slideshow": {
     "slide_type": "slide"
    }
   },
   "source": [
    "## Lambda functions\n",
    "\n",
    "Lambda functions are anonymous functions that can be defined inline without a name. They are commonly used in functional programming to create small, simple functions that can be passed as arguments to other functions.\n",
    "\n",
    "Lambda functions are useful when you need to define a simple function that is only used once and does not require a name, making your code more concise and readable."
   ]
  },
  {
   "cell_type": "code",
   "execution_count": 1,
   "id": "5909dd30",
   "metadata": {
    "slideshow": {
     "slide_type": "fragment"
    }
   },
   "outputs": [
    {
     "name": "stdout",
     "output_type": "stream",
     "text": [
      "15\n"
     ]
    }
   ],
   "source": [
    "add = lambda x, y: x + y\n",
    "result = add(5, 10)\n",
    "print(result) # Output: 15"
   ]
  },
  {
   "cell_type": "markdown",
   "id": "7149a88b",
   "metadata": {
    "slideshow": {
     "slide_type": "subslide"
    }
   },
   "source": [
    "Lambda functions can be used to define custom sorting orders for data structures like lists, tuples, and dictionaries. For example, to sort a list of tuples by the second element, you can use a lambda function as the key function for the `sorted()` function:"
   ]
  },
  {
   "cell_type": "code",
   "execution_count": 2,
   "id": "30547fa5",
   "metadata": {
    "slideshow": {
     "slide_type": "fragment"
    }
   },
   "outputs": [
    {
     "name": "stdout",
     "output_type": "stream",
     "text": [
      "[(1, 'a'), (2, 'b'), (3, 'c')]\n"
     ]
    }
   ],
   "source": [
    "my_list = [(2, 'b'), (1, 'a'), (3, 'c')]\n",
    "sorted_list = sorted(my_list, key=lambda x: x[1])\n",
    "print(sorted_list) # Output: [(1, 'a'), (2, 'b'), (3, 'c')]"
   ]
  },
  {
   "cell_type": "markdown",
   "id": "0e4a6f2a",
   "metadata": {
    "slideshow": {
     "slide_type": "fragment"
    }
   },
   "source": [
    "(We talked about custom sorting objects a couple lectures ago, remember?)"
   ]
  },
  {
   "cell_type": "markdown",
   "id": "a9e5ce52",
   "metadata": {
    "slideshow": {
     "slide_type": "slide"
    }
   },
   "source": [
    "## Besides $\\lambda$\n",
    "\n",
    "The `map()` function is used to apply a given function to each element of an iterable and return a new iterable with the results. The `filter()` function is used to create a new iterable by applying a given function to each element of an iterable and only including elements that satisfy a certain condition. The `reduce()` function is used to apply a given function to an iterable to reduce it to a single value.\n",
    "\n",
    "Lastly `zip()` is a built-in function in Python that is often used in functional programming to combine multiple lists into a single list of tuples. The zip() function takes two or more iterables as arguments and returns an iterator of tuples, where the i-th tuple contains the i-th element from each of the iterables."
   ]
  },
  {
   "cell_type": "markdown",
   "id": "546ae3fe",
   "metadata": {
    "slideshow": {
     "slide_type": "subslide"
    }
   },
   "source": [
    "For example... write code that takes a list of numbers as input and uses the `map()` function to create a new list that contains the square of each number in the original list."
   ]
  },
  {
   "cell_type": "code",
   "execution_count": 5,
   "id": "f1998c5d",
   "metadata": {
    "slideshow": {
     "slide_type": "fragment"
    }
   },
   "outputs": [
    {
     "name": "stdout",
     "output_type": "stream",
     "text": [
      "[1, 4, 9, 16, 25]\n"
     ]
    }
   ],
   "source": [
    "numbers = [1, 2, 3, 4, 5]\n",
    "squares = list(map(lambda x: x**2, numbers))\n",
    "print(squares) # Output: [1, 4, 9, 16, 25]"
   ]
  },
  {
   "cell_type": "markdown",
   "id": "fa4cefc9",
   "metadata": {
    "slideshow": {
     "slide_type": "subslide"
    }
   },
   "source": [
    "Write a code that takes a list of numbers as input and uses the `filter()` function to create a new list that only contains the even numbers in the original list."
   ]
  },
  {
   "cell_type": "code",
   "execution_count": 6,
   "id": "2e5a1599",
   "metadata": {
    "slideshow": {
     "slide_type": "fragment"
    }
   },
   "outputs": [
    {
     "name": "stdout",
     "output_type": "stream",
     "text": [
      "[2, 4]\n"
     ]
    }
   ],
   "source": [
    "numbers = [1, 2, 3, 4, 5]\n",
    "even_numbers = list(filter(lambda x: x % 2 == 0, numbers))\n",
    "print(even_numbers) # Output: [2, 4]"
   ]
  },
  {
   "cell_type": "markdown",
   "id": "4f3d7136",
   "metadata": {
    "slideshow": {
     "slide_type": "subslide"
    }
   },
   "source": [
    "Write a code that takes a list of numbers as input and uses the `reduce()` function to calculate the product of all the numbers in the list."
   ]
  },
  {
   "cell_type": "code",
   "execution_count": 7,
   "id": "14a305ac",
   "metadata": {
    "slideshow": {
     "slide_type": "fragment"
    }
   },
   "outputs": [
    {
     "name": "stdout",
     "output_type": "stream",
     "text": [
      "120\n"
     ]
    }
   ],
   "source": [
    "from functools import reduce\n",
    "numbers = [1, 2, 3, 4, 5]\n",
    "product = reduce(lambda x, y: x*y, numbers)\n",
    "print(product) # Output: 120"
   ]
  },
  {
   "cell_type": "markdown",
   "id": "10fa0efd",
   "metadata": {
    "slideshow": {
     "slide_type": "subslide"
    }
   },
   "source": [
    "Last, but not least, these concepts are used eg. in list comprehension, which implements the logical principles of functional programming as well."
   ]
  },
  {
   "cell_type": "markdown",
   "id": "89ac490b",
   "metadata": {
    "slideshow": {
     "slide_type": "subslide"
    }
   },
   "source": [
    "An example of the `zip()` function:"
   ]
  },
  {
   "cell_type": "code",
   "execution_count": 8,
   "id": "dee6160c",
   "metadata": {
    "slideshow": {
     "slide_type": "fragment"
    }
   },
   "outputs": [
    {
     "name": "stdout",
     "output_type": "stream",
     "text": [
      "[(1, 'a'), (2, 'b'), (3, 'c')]\n"
     ]
    }
   ],
   "source": [
    "numbers = [1, 2, 3]\n",
    "letters = ['a', 'b', 'c']\n",
    "zipped = list(zip(numbers, letters))\n",
    "print(zipped) # Output: [(1, 'a'), (2, 'b'), (3, 'c')]"
   ]
  },
  {
   "cell_type": "markdown",
   "id": "fa750fc3",
   "metadata": {},
   "source": [
    "...we used `zip()` to combine the numbers list and the letters list into a list of tuples. This can be useful in many scenarios, such as when you need to iterate over two lists in parallel or when you want to create a dictionary from two lists."
   ]
  },
  {
   "cell_type": "markdown",
   "id": "cf9ad0ce",
   "metadata": {
    "slideshow": {
     "slide_type": "slide"
    }
   },
   "source": [
    "# Tasks for practicing"
   ]
  },
  {
   "cell_type": "markdown",
   "id": "7700d4f5",
   "metadata": {
    "slideshow": {
     "slide_type": "subslide"
    }
   },
   "source": [
    "## Task 1: Sort a list of words by their length\n",
    "\n",
    "In this task, you will use functional programming concepts such as map(), sorted(), and lambda functions to sort a list of words by their length."
   ]
  },
  {
   "cell_type": "code",
   "execution_count": 11,
   "id": "aff0c808",
   "metadata": {
    "slideshow": {
     "slide_type": "fragment"
    }
   },
   "outputs": [
    {
     "name": "stdout",
     "output_type": "stream",
     "text": [
      "['fig', 'date', 'apple', 'banana', 'cherry', 'elderberry']\n"
     ]
    }
   ],
   "source": [
    "words = [\"apple\", \"banana\", \"cherry\", \"date\", \"elderberry\", \"fig\"]\n",
    "sorted_words = #...\n",
    "print(sorted_words)"
   ]
  },
  {
   "cell_type": "markdown",
   "id": "c78acede",
   "metadata": {
    "slideshow": {
     "slide_type": "subslide"
    }
   },
   "source": [
    "## Task 2: Compute the average of all numbers in a list\n",
    "\n",
    "In this task, you will use functional programming concepts such as reduce(), len(), and lambda functions to compute the average of all numbers in a list."
   ]
  },
  {
   "cell_type": "code",
   "execution_count": 12,
   "id": "5b5ed252",
   "metadata": {
    "slideshow": {
     "slide_type": "fragment"
    }
   },
   "outputs": [
    {
     "name": "stdout",
     "output_type": "stream",
     "text": [
      "3.0\n"
     ]
    }
   ],
   "source": [
    "numbers = [1, 2, 3, 4, 5]\n",
    "average = #...\n",
    "print(average)"
   ]
  },
  {
   "cell_type": "markdown",
   "id": "27c68130",
   "metadata": {
    "slideshow": {
     "slide_type": "subslide"
    }
   },
   "source": [
    "## Task 3: Compute the sum of squares of all odd numbers in a list\n",
    "\n",
    "In this task, you will use functional programming concepts such as map(), filter(), reduce(), and lambda functions to compute the sum of squares of all odd numbers in a list."
   ]
  },
  {
   "cell_type": "code",
   "execution_count": 10,
   "id": "d0170518",
   "metadata": {
    "slideshow": {
     "slide_type": "fragment"
    }
   },
   "outputs": [
    {
     "name": "stdout",
     "output_type": "stream",
     "text": [
      "165\n"
     ]
    }
   ],
   "source": [
    "numbers = [1, 2, 3, 4, 5, 6, 7, 8, 9, 10]\n",
    "odd_numbers = #...\n",
    "squares = #...\n",
    "sum_of_squares = #...\n",
    "print(sum_of_squares)"
   ]
  },
  {
   "cell_type": "markdown",
   "id": "7f343219",
   "metadata": {
    "slideshow": {
     "slide_type": "subslide"
    }
   },
   "source": [
    "## Task 4: Compute the total length of a list of strings\n",
    "\n",
    "In this task, you will use functional programming concepts such as map(), reduce(), and lambda functions to compute the total length of a list of strings."
   ]
  },
  {
   "cell_type": "code",
   "execution_count": 14,
   "id": "c0a68522",
   "metadata": {
    "slideshow": {
     "slide_type": "fragment"
    }
   },
   "outputs": [
    {
     "name": "stdout",
     "output_type": "stream",
     "text": [
      "34\n"
     ]
    }
   ],
   "source": [
    "strings = [\"apple\", \"banana\", \"cherry\", \"date\", \"elderberry\", \"fig\"]\n",
    "lengths = #...\n",
    "total_length = #...\n",
    "print(total_length)"
   ]
  },
  {
   "cell_type": "markdown",
   "id": "091b3c67",
   "metadata": {
    "slideshow": {
     "slide_type": "subslide"
    }
   },
   "source": [
    "## Task 5: Remove duplicates and preserve origintal order of integers \n",
    "\n",
    "In this task, you will use functional programming concepts such as set(), sorted(), and lambda functions to remove duplicates and sort a list of integers."
   ]
  },
  {
   "cell_type": "code",
   "execution_count": 15,
   "id": "2dfe5c12",
   "metadata": {},
   "outputs": [
    {
     "name": "stdout",
     "output_type": "stream",
     "text": [
      "[4, 2, 1, 3, 5]\n"
     ]
    }
   ],
   "source": [
    "numbers = [4, 2, 1, 3, 2, 4, 5, 3, 1]\n",
    "unique_numbers = #... hint: numbers.index(x)\n",
    "print(unique_numbers)"
   ]
  }
 ],
 "metadata": {
  "celltoolbar": "Slideshow",
  "kernelspec": {
   "display_name": "Python 3 (ipykernel)",
   "language": "python",
   "name": "python3"
  },
  "language_info": {
   "codemirror_mode": {
    "name": "ipython",
    "version": 3
   },
   "file_extension": ".py",
   "mimetype": "text/x-python",
   "name": "python",
   "nbconvert_exporter": "python",
   "pygments_lexer": "ipython3",
   "version": "3.10.8"
  }
 },
 "nbformat": 4,
 "nbformat_minor": 5
}
