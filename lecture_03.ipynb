{
 "cells": [
  {
   "cell_type": "markdown",
   "id": "7ed8199c",
   "metadata": {
    "slideshow": {
     "slide_type": "slide"
    }
   },
   "source": [
    "# Welcome to PPY lecture #3, February 28 2023\n",
    "\n",
    "1. Grab a place, start your computer, if you can\n",
    "2. Send an e-mail to mojzemat@fjfi.cvut.cz, subject _I want to receive the PPY newsletter_, if you like (and haven't yet)\n",
    "3. Bookmark the repository: [github.com/matejmojzes/ppy](https://github.com/matejmojzes/ppy), open the `lecture_03.ipynb`, where you will find everything for today — introduction to:\n",
    "  * lists\n",
    "  * tuples\n",
    "  * sets\n",
    "  * dictionaries\n",
    "  * iterators"
   ]
  },
  {
   "cell_type": "markdown",
   "id": "4be15545",
   "metadata": {
    "slideshow": {
     "slide_type": "slide"
    }
   },
   "source": [
    "# Before we begin...\n",
    "\n",
    "Remember the dilemma on `is` vs `==` when checking for `None`?"
   ]
  },
  {
   "cell_type": "code",
   "execution_count": 1,
   "id": "415c0c48",
   "metadata": {
    "slideshow": {
     "slide_type": "fragment"
    }
   },
   "outputs": [
    {
     "name": "stdout",
     "output_type": "stream",
     "text": [
      "None is equal to None\n"
     ]
    }
   ],
   "source": [
    "if None == None:\n",
    "    print(\"None is equal to None\")\n",
    "else:\n",
    "    print(\"None is not equal to None\")"
   ]
  },
  {
   "cell_type": "code",
   "execution_count": 2,
   "id": "746a7841",
   "metadata": {
    "slideshow": {
     "slide_type": "fragment"
    }
   },
   "outputs": [
    {
     "name": "stdout",
     "output_type": "stream",
     "text": [
      "None is None\n"
     ]
    }
   ],
   "source": [
    "if None is None:\n",
    "    print(\"None is None\")\n",
    "else:\n",
    "    print(\"None is not None\")"
   ]
  },
  {
   "cell_type": "markdown",
   "id": "c1ccab84",
   "metadata": {
    "slideshow": {
     "slide_type": "fragment"
    }
   },
   "source": [
    "They are the same."
   ]
  },
  {
   "cell_type": "markdown",
   "id": "63e5fe92",
   "metadata": {
    "slideshow": {
     "slide_type": "slide"
    }
   },
   "source": [
    "# Lists\n",
    "\n",
    "Lists are used to store multiple items in a single variable. Items can be of different data types."
   ]
  },
  {
   "cell_type": "markdown",
   "id": "29474d00",
   "metadata": {
    "slideshow": {
     "slide_type": "fragment"
    }
   },
   "source": [
    "1. Creating a list:\n",
    "\n",
    "To create a list in Python, you can use square brackets [] and separate the elements by commas. For example, to create a list of numbers, you can do this:"
   ]
  },
  {
   "cell_type": "code",
   "execution_count": 3,
   "id": "5985a34c",
   "metadata": {
    "slideshow": {
     "slide_type": "fragment"
    }
   },
   "outputs": [
    {
     "name": "stdout",
     "output_type": "stream",
     "text": [
      "[1, 2, 3, 4, 5]\n"
     ]
    }
   ],
   "source": [
    "numbers = [1, 2, 3, 4, 5]\n",
    "print(numbers)"
   ]
  },
  {
   "cell_type": "markdown",
   "id": "61653a13",
   "metadata": {
    "slideshow": {
     "slide_type": "subslide"
    }
   },
   "source": [
    "2. Accessing elements:\n",
    "\n",
    "You can access elements in a list using indexing. The index starts from 0 for the first element and increases by 1 for each subsequent element. For example, to access the first element of the list we created above, we can use:"
   ]
  },
  {
   "cell_type": "code",
   "execution_count": 4,
   "id": "f98e0f78",
   "metadata": {
    "slideshow": {
     "slide_type": "fragment"
    }
   },
   "outputs": [
    {
     "name": "stdout",
     "output_type": "stream",
     "text": [
      "1\n"
     ]
    }
   ],
   "source": [
    "first_number = numbers[0]\n",
    "print(first_number)"
   ]
  },
  {
   "cell_type": "markdown",
   "id": "e7598cf2",
   "metadata": {
    "slideshow": {
     "slide_type": "subslide"
    }
   },
   "source": [
    "3. Modifying elements:\n",
    "\n",
    "You can modify elements in a list by assigning a new value to a specific index. For example, to change the second element of our list of numbers to 10, we can do:"
   ]
  },
  {
   "cell_type": "code",
   "execution_count": 5,
   "id": "37d6ed9f",
   "metadata": {
    "slideshow": {
     "slide_type": "fragment"
    }
   },
   "outputs": [
    {
     "name": "stdout",
     "output_type": "stream",
     "text": [
      "[1, 10, 3, 4, 5]\n"
     ]
    }
   ],
   "source": [
    "numbers[1] = 10\n",
    "print(numbers)"
   ]
  },
  {
   "cell_type": "markdown",
   "id": "f560816a",
   "metadata": {
    "slideshow": {
     "slide_type": "subslide"
    }
   },
   "source": [
    "4. Adding elements:\n",
    "\n",
    "You can add elements to a list using the `append()` method. This adds a new element to the end of the list. For example:"
   ]
  },
  {
   "cell_type": "code",
   "execution_count": 6,
   "id": "5e68e3bc",
   "metadata": {
    "slideshow": {
     "slide_type": "fragment"
    }
   },
   "outputs": [
    {
     "name": "stdout",
     "output_type": "stream",
     "text": [
      "[1, 10, 3, 4, 5, 6]\n"
     ]
    }
   ],
   "source": [
    "numbers.append(6)\n",
    "print(numbers)"
   ]
  },
  {
   "cell_type": "markdown",
   "id": "3241801d",
   "metadata": {
    "slideshow": {
     "slide_type": "subslide"
    }
   },
   "source": [
    "5. Removing elements:\n",
    "\n",
    "You can remove elements from a list using the `remove()` method. This removes the first occurrence of the specified element. For example, to remove the number 4 from our numbers list, we can do:"
   ]
  },
  {
   "cell_type": "code",
   "execution_count": 7,
   "id": "02d21ba0",
   "metadata": {
    "slideshow": {
     "slide_type": "fragment"
    }
   },
   "outputs": [
    {
     "name": "stdout",
     "output_type": "stream",
     "text": [
      "[1, 10, 3, 5, 6]\n"
     ]
    }
   ],
   "source": [
    "numbers.remove(4)\n",
    "print(numbers)"
   ]
  },
  {
   "cell_type": "markdown",
   "id": "6d50f90b",
   "metadata": {
    "slideshow": {
     "slide_type": "subslide"
    }
   },
   "source": [
    "6. Iterating over a list:\n",
    "\n",
    "You can iterate over the elements of a list using a `for` loop. For example, to print each element in the numbers list, you can do:"
   ]
  },
  {
   "cell_type": "code",
   "execution_count": 8,
   "id": "75601812",
   "metadata": {
    "slideshow": {
     "slide_type": "fragment"
    }
   },
   "outputs": [
    {
     "name": "stdout",
     "output_type": "stream",
     "text": [
      "1\n",
      "10\n",
      "3\n",
      "5\n",
      "6\n"
     ]
    }
   ],
   "source": [
    "for num in numbers:\n",
    "    print(num)"
   ]
  },
  {
   "cell_type": "markdown",
   "id": "ae803cf9",
   "metadata": {
    "slideshow": {
     "slide_type": "subslide"
    }
   },
   "source": [
    "**Further reading**\n",
    "\n",
    "I recommend this article (in Czech): https://naucse.python.cz/lessons/beginners/list/\n",
    "\n",
    "![image](https://naucse.python.cz/lessons/beginners/list/static/methods.svg)"
   ]
  },
  {
   "cell_type": "markdown",
   "id": "490a22a1",
   "metadata": {
    "slideshow": {
     "slide_type": "slide"
    }
   },
   "source": [
    "# Tuples\n",
    "\n",
    "Tuples are another built-in data type in Python that are used to store collections of items, similar to lists. However, there are some key differences between tuples and lists:"
   ]
  },
  {
   "cell_type": "markdown",
   "id": "b506eb97",
   "metadata": {
    "slideshow": {
     "slide_type": "fragment"
    }
   },
   "source": [
    "1. Syntax:\n",
    "\n",
    "Tuples are created using parentheses () instead of square brackets []. For example, to create a tuple of numbers, you can do this:"
   ]
  },
  {
   "cell_type": "code",
   "execution_count": 9,
   "id": "4ed97ed7",
   "metadata": {
    "slideshow": {
     "slide_type": "fragment"
    }
   },
   "outputs": [
    {
     "name": "stdout",
     "output_type": "stream",
     "text": [
      "(1, 2, 3, 4, 5)\n"
     ]
    }
   ],
   "source": [
    "numbers = (1, 2, 3, 4, 5)\n",
    "print(numbers)"
   ]
  },
  {
   "cell_type": "code",
   "execution_count": 10,
   "id": "cc8c97b2",
   "metadata": {
    "slideshow": {
     "slide_type": "fragment"
    }
   },
   "outputs": [
    {
     "name": "stdout",
     "output_type": "stream",
     "text": [
      "[1, 2, 3, 4, 5]\n",
      "<class 'list'>\n",
      "<class 'tuple'>\n"
     ]
    }
   ],
   "source": [
    "numbers_list = [1, 2, 3, 4, 5]\n",
    "print(numbers_list)\n",
    "print(type(numbers_list))\n",
    "print(type(numbers))"
   ]
  },
  {
   "cell_type": "markdown",
   "id": "7431021b",
   "metadata": {
    "slideshow": {
     "slide_type": "subslide"
    }
   },
   "source": [
    "2. Immutability:\n",
    "\n",
    "The most significant difference between tuples and lists is that tuples are immutable, meaning they cannot be changed once they are created. This means that you cannot add, remove, or modify elements in a tuple. If you try to modify a tuple, you'll get a TypeError."
   ]
  },
  {
   "cell_type": "code",
   "execution_count": 11,
   "id": "643696ee",
   "metadata": {
    "slideshow": {
     "slide_type": "fragment"
    }
   },
   "outputs": [
    {
     "name": "stdout",
     "output_type": "stream",
     "text": [
      "2\n"
     ]
    },
    {
     "ename": "TypeError",
     "evalue": "'tuple' object does not support item assignment",
     "output_type": "error",
     "traceback": [
      "\u001b[0;31m---------------------------------------------------------------------------\u001b[0m",
      "\u001b[0;31mTypeError\u001b[0m                                 Traceback (most recent call last)",
      "Cell \u001b[0;32mIn[11], line 2\u001b[0m\n\u001b[1;32m      1\u001b[0m \u001b[38;5;28mprint\u001b[39m(numbers[\u001b[38;5;241m1\u001b[39m])\n\u001b[0;32m----> 2\u001b[0m \u001b[43mnumbers\u001b[49m\u001b[43m[\u001b[49m\u001b[38;5;241;43m1\u001b[39;49m\u001b[43m]\u001b[49m \u001b[38;5;241m=\u001b[39m \u001b[38;5;241m10\u001b[39m\n",
      "\u001b[0;31mTypeError\u001b[0m: 'tuple' object does not support item assignment"
     ]
    }
   ],
   "source": [
    "print(numbers[1])\n",
    "numbers[1] = 10"
   ]
  },
  {
   "cell_type": "markdown",
   "id": "7781b018",
   "metadata": {
    "slideshow": {
     "slide_type": "subslide"
    }
   },
   "source": [
    "3. Uses:\n",
    "\n",
    "Tuples are often used to represent fixed collections of data, such as the coordinates of a point, the RGB values of a color, or the components of a date."
   ]
  },
  {
   "cell_type": "markdown",
   "id": "b4fd831b",
   "metadata": {
    "slideshow": {
     "slide_type": "fragment"
    }
   },
   "source": [
    "Despite these differences, tuples and lists are related in that they are both used to store collections of items in Python. They are also similar in that you can use indexing to access individual elements, and you can use loops to iterate over the elements of both tuples and lists."
   ]
  },
  {
   "cell_type": "markdown",
   "id": "6138f1a2",
   "metadata": {
    "slideshow": {
     "slide_type": "slide"
    }
   },
   "source": [
    "# Sets\n",
    "\n",
    "Sets are another built-in data type in Python that represent a collection of **unique** elements. \n",
    "\n",
    "Unlike lists and tuples, which can contain duplicate elements, a set only contains each unique element once."
   ]
  },
  {
   "cell_type": "markdown",
   "id": "f46b8e4a",
   "metadata": {
    "slideshow": {
     "slide_type": "fragment"
    }
   },
   "source": [
    "1. Creating a set:\n",
    "\n",
    "To create a set in Python, you can use curly braces {} or the set() function. For example, to create a set of numbers, you can do this:"
   ]
  },
  {
   "cell_type": "code",
   "execution_count": 12,
   "id": "b083943a",
   "metadata": {
    "slideshow": {
     "slide_type": "fragment"
    }
   },
   "outputs": [
    {
     "name": "stdout",
     "output_type": "stream",
     "text": [
      "{1, 2, 3, 4, 5}\n",
      "{1, 2, 3, 4, 5}\n"
     ]
    }
   ],
   "source": [
    "numbers_set = {1, 2, 3, 4, 5}\n",
    "print(numbers_set)\n",
    "# or\n",
    "numbers_set = set([1, 2, 3, 4, 5])\n",
    "print(numbers_set)"
   ]
  },
  {
   "cell_type": "code",
   "execution_count": 13,
   "id": "4c7f5be3",
   "metadata": {
    "slideshow": {
     "slide_type": "fragment"
    }
   },
   "outputs": [
    {
     "name": "stdout",
     "output_type": "stream",
     "text": [
      "{1, 2, 3, 4, 5}\n"
     ]
    }
   ],
   "source": [
    "numbers_set = {1, 2, 3, 4, 5, 5}  # notice the second \"5\"!\n",
    "print(numbers_set)"
   ]
  },
  {
   "cell_type": "markdown",
   "id": "18958468",
   "metadata": {
    "slideshow": {
     "slide_type": "subslide"
    }
   },
   "source": [
    "2. Adding elements:\n",
    "\n",
    "You can add elements to a set using the `add()` method. For example, to add the number 6 to our `numbers_set`, we can do:"
   ]
  },
  {
   "cell_type": "code",
   "execution_count": 14,
   "id": "567c672e",
   "metadata": {
    "slideshow": {
     "slide_type": "fragment"
    }
   },
   "outputs": [
    {
     "name": "stdout",
     "output_type": "stream",
     "text": [
      "{1, 2, 3, 4, 5, 6}\n"
     ]
    }
   ],
   "source": [
    "numbers_set.add(6)\n",
    "print(numbers_set)"
   ]
  },
  {
   "cell_type": "markdown",
   "id": "40e61983",
   "metadata": {
    "slideshow": {
     "slide_type": "subslide"
    }
   },
   "source": [
    "3. Removing elements:\n",
    "    \n",
    "You can remove elements from a set using the `remove()` method. This removes the specified element from the set. For example, to remove the number 4 from our `numbers_set`, we can do:"
   ]
  },
  {
   "cell_type": "code",
   "execution_count": 15,
   "id": "edf33bcb",
   "metadata": {
    "slideshow": {
     "slide_type": "fragment"
    }
   },
   "outputs": [
    {
     "name": "stdout",
     "output_type": "stream",
     "text": [
      "{1, 2, 3, 5, 6}\n"
     ]
    }
   ],
   "source": [
    "numbers_set.remove(4)\n",
    "print(numbers_set)"
   ]
  },
  {
   "cell_type": "markdown",
   "id": "cc6a924c",
   "metadata": {
    "slideshow": {
     "slide_type": "subslide"
    }
   },
   "source": [
    "4. Set operations:\n",
    "\n",
    "Sets support a variety of operations for working with sets, including union, intersection, and difference. For example, to find the union of two sets, you can use the `union()` method or the `|` operator. To find the intersection of two sets, you can use the `intersection()` method or the `&` operator. To find the difference between two sets, you can use the `difference()` method or the `-` operator."
   ]
  },
  {
   "cell_type": "code",
   "execution_count": 16,
   "id": "638fe936",
   "metadata": {
    "slideshow": {
     "slide_type": "fragment"
    }
   },
   "outputs": [
    {
     "name": "stdout",
     "output_type": "stream",
     "text": [
      "{1, 2, 3, 5, 6}\n",
      "{1, 2, 3, 100, 5, 6}\n",
      "{3}\n",
      "{1, 2, 5, 6}\n"
     ]
    }
   ],
   "source": [
    "print(numbers_set)\n",
    "print(numbers_set.union(set([3, 100])))\n",
    "print(numbers_set.intersection(set([3, 100])))\n",
    "print(numbers_set.difference(set([3, 100])))"
   ]
  },
  {
   "cell_type": "markdown",
   "id": "abf254c7",
   "metadata": {
    "slideshow": {
     "slide_type": "subslide"
    }
   },
   "source": [
    "5. Iterating over a set:\n",
    "\n",
    "You can iterate over the elements of a set using a `for` loop. For example, to print each element in the `numbers_set`, you can do:"
   ]
  },
  {
   "cell_type": "code",
   "execution_count": 17,
   "id": "33c11f36",
   "metadata": {
    "slideshow": {
     "slide_type": "fragment"
    }
   },
   "outputs": [
    {
     "name": "stdout",
     "output_type": "stream",
     "text": [
      "1\n",
      "2\n",
      "3\n",
      "5\n",
      "6\n"
     ]
    }
   ],
   "source": [
    "for num in numbers_set:\n",
    "    print(num)"
   ]
  },
  {
   "cell_type": "markdown",
   "id": "b0772405",
   "metadata": {
    "slideshow": {
     "slide_type": "subslide"
    }
   },
   "source": [
    "Remember, sets are useful when you need to work with a collection of unique elements and want to perform operations like finding the intersection or union of sets."
   ]
  },
  {
   "cell_type": "markdown",
   "id": "7de7f9e9",
   "metadata": {
    "slideshow": {
     "slide_type": "slide"
    }
   },
   "source": [
    "# Dictionaries\n",
    "\n",
    "Dictionaries are another built-in data type in Python. Dictionaries allow you to store a collection of key-value pairs. Each key in the dictionary maps to a value, allowing you to easily look up values based on their associated keys."
   ]
  },
  {
   "cell_type": "markdown",
   "id": "c66bb07f",
   "metadata": {
    "slideshow": {
     "slide_type": "subslide"
    }
   },
   "source": [
    "1. Creating a dictionary:\n",
    "\n",
    "To create a dictionary in Python, you can use curly braces {} and separate the keys and values with colons. For example, to create a dictionary of ages for a group of people, you can do this:"
   ]
  },
  {
   "cell_type": "code",
   "execution_count": 18,
   "id": "cebfe67c",
   "metadata": {
    "slideshow": {
     "slide_type": "fragment"
    }
   },
   "outputs": [
    {
     "name": "stdout",
     "output_type": "stream",
     "text": [
      "{'Alice': 25, 'Bob': 30, 'Charlie': 35}\n"
     ]
    }
   ],
   "source": [
    "ages = {\"Alice\": 25, \"Bob\": 30, \"Charlie\": 35}\n",
    "print(ages)"
   ]
  },
  {
   "cell_type": "markdown",
   "id": "90db91c4",
   "metadata": {
    "slideshow": {
     "slide_type": "subslide"
    }
   },
   "source": [
    "2. Accessing values:\n",
    "\n",
    "You can access the value associated with a key in a dictionary by using the key inside square brackets []. For example, to access Alice's age from the `ages` dictionary above, you can do:"
   ]
  },
  {
   "cell_type": "code",
   "execution_count": 19,
   "id": "bb40d5ef",
   "metadata": {
    "slideshow": {
     "slide_type": "fragment"
    }
   },
   "outputs": [
    {
     "name": "stdout",
     "output_type": "stream",
     "text": [
      "25\n"
     ]
    }
   ],
   "source": [
    "alice_age = ages[\"Alice\"]\n",
    "print(alice_age)"
   ]
  },
  {
   "cell_type": "markdown",
   "id": "eb837a85",
   "metadata": {
    "slideshow": {
     "slide_type": "subslide"
    }
   },
   "source": [
    "3. Modifying values:\n",
    "\n",
    "You can modify the value associated with a key in a dictionary by assigning a new value to the key. For example, to change Bob's age to 32 in the `ages` dictionary, you can do:"
   ]
  },
  {
   "cell_type": "code",
   "execution_count": 20,
   "id": "8c6b80e8",
   "metadata": {
    "slideshow": {
     "slide_type": "fragment"
    }
   },
   "outputs": [
    {
     "name": "stdout",
     "output_type": "stream",
     "text": [
      "{'Alice': 25, 'Bob': 32, 'Charlie': 35}\n"
     ]
    }
   ],
   "source": [
    "ages[\"Bob\"] = 32\n",
    "print(ages)"
   ]
  },
  {
   "cell_type": "markdown",
   "id": "9dd32922",
   "metadata": {
    "slideshow": {
     "slide_type": "subslide"
    }
   },
   "source": [
    "4. Adding key-value pairs:\n",
    "\n",
    "You can add a new key-value pair to a dictionary by assigning a value to a new key. For example, to add a new person named David with age 28 to the `ages` dictionary, you can do:"
   ]
  },
  {
   "cell_type": "code",
   "execution_count": 21,
   "id": "5cf823b5",
   "metadata": {
    "slideshow": {
     "slide_type": "fragment"
    }
   },
   "outputs": [
    {
     "name": "stdout",
     "output_type": "stream",
     "text": [
      "{'Alice': 25, 'Bob': 32, 'Charlie': 35, 'David': 28}\n"
     ]
    }
   ],
   "source": [
    "ages[\"David\"] = 28\n",
    "print(ages)"
   ]
  },
  {
   "cell_type": "markdown",
   "id": "700066ed",
   "metadata": {
    "slideshow": {
     "slide_type": "subslide"
    }
   },
   "source": [
    "5. Removing key-value pairs:\n",
    "\n",
    "You can remove a key-value pair from a dictionary using the `del` keyword. For example, to remove Charlie's age from the `ages` dictionary, you can do:"
   ]
  },
  {
   "cell_type": "code",
   "execution_count": 22,
   "id": "fa7f1d43",
   "metadata": {
    "slideshow": {
     "slide_type": "fragment"
    }
   },
   "outputs": [
    {
     "name": "stdout",
     "output_type": "stream",
     "text": [
      "{'Alice': 25, 'Bob': 32, 'David': 28}\n"
     ]
    }
   ],
   "source": [
    "del ages[\"Charlie\"]\n",
    "print(ages)"
   ]
  },
  {
   "cell_type": "markdown",
   "id": "e4c6858f",
   "metadata": {
    "slideshow": {
     "slide_type": "subslide"
    }
   },
   "source": [
    "6. Iterating over a dictionary:\n",
    "\n",
    "You can iterate over the keys, values, or key-value pairs of a dictionary using a `for` loop. For example, to print each name and age in the `ages` dictionary, you can do:"
   ]
  },
  {
   "cell_type": "code",
   "execution_count": 23,
   "id": "851a1d03",
   "metadata": {
    "slideshow": {
     "slide_type": "fragment"
    }
   },
   "outputs": [
    {
     "name": "stdout",
     "output_type": "stream",
     "text": [
      "Alice is 25 years old\n",
      "Bob is 32 years old\n",
      "David is 28 years old\n"
     ]
    }
   ],
   "source": [
    "for name, age in ages.items():\n",
    "    print(name + \" is \" + str(age) + \" years old\")"
   ]
  },
  {
   "cell_type": "markdown",
   "id": "60803d38",
   "metadata": {
    "slideshow": {
     "slide_type": "subslide"
    }
   },
   "source": [
    "Remember, dictionaries are useful when you need to look up values based on their associated keys, and they allow you to store a collection of related data in a single variable."
   ]
  },
  {
   "cell_type": "markdown",
   "id": "5a063fd4",
   "metadata": {
    "slideshow": {
     "slide_type": "subslide"
    }
   },
   "source": [
    "# Iterators\n",
    "\n",
    "Iterators and generators are two related concepts in Python that allow you to iterate over a sequence of values.\n",
    "\n",
    "An iterator is an object that implements the iterator protocol, which means it provides a `__next__()` method that returns the next value in the sequence, and raises a `StopIteration` exception when there are no more values. The `iter()` function can be used to create an iterator from an iterable object.\n",
    "\n",
    "Here's an example of using an iterator in Python:"
   ]
  },
  {
   "cell_type": "code",
   "execution_count": 24,
   "id": "27fa2120",
   "metadata": {
    "slideshow": {
     "slide_type": "fragment"
    }
   },
   "outputs": [
    {
     "name": "stdout",
     "output_type": "stream",
     "text": [
      "1\n",
      "2\n",
      "3\n"
     ]
    }
   ],
   "source": [
    "numbers = [1, 2, 3, 4, 5]\n",
    "iter_numbers = iter(numbers)\n",
    "\n",
    "print(next(iter_numbers))  # prints 1\n",
    "print(next(iter_numbers))  # prints 2\n",
    "print(next(iter_numbers))  # prints 3"
   ]
  },
  {
   "cell_type": "markdown",
   "id": "467c5cb3",
   "metadata": {
    "slideshow": {
     "slide_type": "subslide"
    }
   },
   "source": [
    "A **generator** is a special type of iterator that is defined using a function and the `yield` keyword. When a generator is called, it returns an iterator that can be used to iterate over the values produced by the generator. Each time the `yield` keyword is encountered, the current value is returned and the state of the generator is saved, so that the next time the generator is called, it picks up where it left off."
   ]
  },
  {
   "cell_type": "code",
   "execution_count": 25,
   "id": "8a34c0d5",
   "metadata": {
    "slideshow": {
     "slide_type": "fragment"
    }
   },
   "outputs": [
    {
     "name": "stdout",
     "output_type": "stream",
     "text": [
      "1\n",
      "2\n",
      "3\n",
      "4\n",
      "5\n"
     ]
    }
   ],
   "source": [
    "def count_up_to(n):\n",
    "    i = 1\n",
    "    while i <= n:\n",
    "        yield i\n",
    "        i += 1\n",
    "\n",
    "for num in count_up_to(5):\n",
    "    print(num)"
   ]
  },
  {
   "cell_type": "markdown",
   "id": "f218b7ba",
   "metadata": {
    "slideshow": {
     "slide_type": "subslide"
    }
   },
   "source": [
    "Generators \n",
    "1. are useful when you need to generate a sequence of values that can't be generated all at once, or when you don't want to store the entire sequence in memory at once\n",
    "2. can also be used to create infinite sequences, since the generator function can continue yielding values indefinitely."
   ]
  },
  {
   "cell_type": "markdown",
   "id": "d38607de",
   "metadata": {
    "slideshow": {
     "slide_type": "slide"
    }
   },
   "source": [
    "# Comprehensions\n",
    "\n",
    "Comprehensions are a concise way to create iterables in Python. They are related to iterators in that they allow you to create iterables using a compact syntax.\n",
    "\n",
    "There are two types of comprehensions in Python: list comprehensions and generator comprehensions. Both types of comprehensions allow you to create iterables using a similar syntax, but they have different memory usage and performance characteristics.\n",
    "\n",
    "List comprehensions are a way to create lists using a compact syntax. They allow you to iterate over a sequence of values and apply an expression to each value, creating a new list of the resulting values. Here's an example of using a list comprehension to create a list of the squares of the numbers 1 to 5:"
   ]
  },
  {
   "cell_type": "code",
   "execution_count": 26,
   "id": "9324974e",
   "metadata": {
    "slideshow": {
     "slide_type": "fragment"
    }
   },
   "outputs": [
    {
     "name": "stdout",
     "output_type": "stream",
     "text": [
      "[1, 4, 9, 16, 25]\n"
     ]
    }
   ],
   "source": [
    "squares = [x**2 for x in range(1, 6)]\n",
    "print(squares)"
   ]
  },
  {
   "cell_type": "markdown",
   "id": "007f5ee2",
   "metadata": {
    "slideshow": {
     "slide_type": "subslide"
    }
   },
   "source": [
    "You can filter values you are iterating over. Let's say we want squares of numbers that are even:"
   ]
  },
  {
   "cell_type": "code",
   "execution_count": 27,
   "id": "7e0b5dcc",
   "metadata": {
    "slideshow": {
     "slide_type": "fragment"
    }
   },
   "outputs": [
    {
     "name": "stdout",
     "output_type": "stream",
     "text": [
      "[4, 16]\n"
     ]
    }
   ],
   "source": [
    "squares_even = [x**2 for x in range(1, 6) if x % 2 == 0]\n",
    "print(squares_even)"
   ]
  },
  {
   "cell_type": "markdown",
   "id": "989c0d08",
   "metadata": {
    "slideshow": {
     "slide_type": "subslide"
    }
   },
   "source": [
    "Also, you can generate dictionaries and sets this way:"
   ]
  },
  {
   "cell_type": "code",
   "execution_count": 28,
   "id": "a3b60096",
   "metadata": {
    "slideshow": {
     "slide_type": "fragment"
    }
   },
   "outputs": [
    {
     "name": "stdout",
     "output_type": "stream",
     "text": [
      "{'Apple': 5, 'Banana': 6, 'Sea': 3}\n"
     ]
    }
   ],
   "source": [
    "words = ['Apple', 'Banana', 'Sea']\n",
    "word_lengths = {x:len(x) for x in words}\n",
    "print(word_lengths)"
   ]
  },
  {
   "cell_type": "code",
   "execution_count": 29,
   "id": "faf399cf",
   "metadata": {
    "slideshow": {
     "slide_type": "fragment"
    }
   },
   "outputs": [
    {
     "name": "stdout",
     "output_type": "stream",
     "text": [
      "{2, 4, 6}\n"
     ]
    }
   ],
   "source": [
    "numbers = [1, 2, 2, 3, 4, 5, 6]\n",
    "evens = {x for x in numbers if x % 2 == 0}\n",
    "print(evens)"
   ]
  },
  {
   "cell_type": "markdown",
   "id": "3988e949",
   "metadata": {
    "slideshow": {
     "slide_type": "subslide"
    }
   },
   "source": [
    "Generator comprehensions are a way to create generators using a similar syntax. They allow you to iterate over a sequence of values and apply an expression to each value, creating a generator that yields the resulting values one at a time. Here's an example of using a generator comprehension to create a generator that yields the cubes of the numbers 1 to 5:"
   ]
  },
  {
   "cell_type": "code",
   "execution_count": 30,
   "id": "53912700",
   "metadata": {
    "slideshow": {
     "slide_type": "fragment"
    }
   },
   "outputs": [
    {
     "name": "stdout",
     "output_type": "stream",
     "text": [
      "1\n",
      "8\n",
      "27\n",
      "64\n",
      "125\n"
     ]
    }
   ],
   "source": [
    "cubes = (x**3 for x in range(1, 6))\n",
    "for cube in cubes:\n",
    "    print(cube)"
   ]
  },
  {
   "cell_type": "markdown",
   "id": "66c0a3cd",
   "metadata": {
    "slideshow": {
     "slide_type": "subslide"
    }
   },
   "source": [
    "Both list comprehensions and generator comprehensions are related to iterators in that they allow you to create iterables using a concise syntax. List comprehensions create a new list in memory, while generator comprehensions create a generator that yields values one at a time, allowing you to work with large or infinite sequences of values without consuming a lot of memory."
   ]
  },
  {
   "cell_type": "markdown",
   "id": "cbc0603f",
   "metadata": {},
   "source": [
    "# Homework from the last time"
   ]
  },
  {
   "cell_type": "code",
   "execution_count": 31,
   "id": "6d82b621",
   "metadata": {},
   "outputs": [
    {
     "data": {
      "text/plain": [
       "['Olleh', 'Dlrow']"
      ]
     },
     "execution_count": 31,
     "metadata": {},
     "output_type": "execute_result"
    }
   ],
   "source": [
    "[token[::-1].capitalize() for token in 'Hello World'.split(' ')]"
   ]
  },
  {
   "cell_type": "markdown",
   "id": "dc34a456",
   "metadata": {},
   "source": [
    "# Homework for today\n",
    "\n",
    "Write a Python function that takes a string as input and returns a dictionary that maps each character in the string to its frequency. Use a dictionary comprehension to create the dictionary."
   ]
  },
  {
   "cell_type": "code",
   "execution_count": 32,
   "id": "9adebe4c",
   "metadata": {},
   "outputs": [
    {
     "name": "stdout",
     "output_type": "stream",
     "text": [
      "{'a': 1, 'l': 1, 'p': 2, 'e': 1}\n"
     ]
    }
   ],
   "source": [
    "def homework(input_str):\n",
    "    # insert your code here!\n",
    "print(homework('apple'))"
   ]
  }
 ],
 "metadata": {
  "celltoolbar": "Slideshow",
  "kernelspec": {
   "display_name": "Python 3 (ipykernel)",
   "language": "python",
   "name": "python3"
  },
  "language_info": {
   "codemirror_mode": {
    "name": "ipython",
    "version": 3
   },
   "file_extension": ".py",
   "mimetype": "text/x-python",
   "name": "python",
   "nbconvert_exporter": "python",
   "pygments_lexer": "ipython3",
   "version": "3.10.8"
  }
 },
 "nbformat": 4,
 "nbformat_minor": 5
}
