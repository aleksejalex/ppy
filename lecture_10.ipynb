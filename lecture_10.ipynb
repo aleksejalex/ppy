{
 "cells": [
  {
   "cell_type": "markdown",
   "id": "7ed8199c",
   "metadata": {
    "slideshow": {
     "slide_type": "slide"
    }
   },
   "source": [
    "# PPY lecture #10, April 25 2023\n",
    "\n",
    "A primer for Graphical User Interface (GUI) development in Python."
   ]
  },
  {
   "cell_type": "markdown",
   "id": "4f759457",
   "metadata": {
    "slideshow": {
     "slide_type": "slide"
    }
   },
   "source": [
    "# A couple important points before we begin\n",
    "\n",
    "1. (G)UI design is a hard problem. Most of the time it is a better idea to leave it to talented professionals.\n",
    "\n",
    "![UI vs UX](src/ui.jpeg)"
   ]
  },
  {
   "cell_type": "markdown",
   "id": "9d23d052",
   "metadata": {
    "slideshow": {
     "slide_type": "subslide"
    }
   },
   "source": [
    "2. It is year 2023, browser-based UIs are quite commonly replacing dedicated desktop/mobile applications. Python and eg. the [Django framework](https://www.djangoproject.com) can be a good choice if you would like to go this way. You can learn (much) more on the **18INTA** course."
   ]
  },
  {
   "cell_type": "markdown",
   "id": "0d01ce30",
   "metadata": {
    "slideshow": {
     "slide_type": "fragment"
    }
   },
   "source": [
    "3. We have the **18GUI** course, dedicated entirely to GUI development."
   ]
  },
  {
   "cell_type": "markdown",
   "id": "37a96dc9",
   "metadata": {
    "slideshow": {
     "slide_type": "subslide"
    }
   },
   "source": [
    "4. In case you would like to learn GUI development in Python, these are the best options:\n",
    "\n",
    "* [Tkinter](https://docs.python.org/3/library/tkinter.html) - This is a built-in Python library for creating simple GUIs. It is easy to use and comes with a variety of widgets that you can use to create a simple interface.\n",
    "* [PyQt](https://riverbankcomputing.com/software/pyqt/) - This is a Python binding for the popular C++ Qt framework. It provides a comprehensive set of GUI classes that you can use to create advanced GUIs.\n",
    "* [Kivy](https://kivy.org) - This is a Python library for creating multi-touch applications. It provides a framework for creating GUIs that can run on multiple platforms, including iOS, Android, Windows, and macOS."
   ]
  },
  {
   "cell_type": "markdown",
   "id": "1fe3c138",
   "metadata": {
    "slideshow": {
     "slide_type": "fragment"
    }
   },
   "source": [
    "My personal recommendation would be PyQt. For PyQt5, there is a good tutorial in Czech available here: https://naucse.python.cz/course/mi-pyt/intro/pyqt/. "
   ]
  },
  {
   "cell_type": "markdown",
   "id": "3c858605",
   "metadata": {
    "slideshow": {
     "slide_type": "fragment"
    }
   },
   "source": [
    "However, keeping in mind our focus on scientific computing, if we want to maximize the [bang for the buck](https://en.wikipedia.org/wiki/Bang_for_the_buck), I strongly recommend to make the best use of the time we have available by looking into [IPython/Jupyter widgets](https://ipywidgets.readthedocs.io/en/stable/), which can be used as a replacement for a GUI in certain cases."
   ]
  },
  {
   "cell_type": "markdown",
   "id": "8df772c6",
   "metadata": {
    "slideshow": {
     "slide_type": "subslide"
    }
   },
   "source": [
    "IPython widgets are interactive HTML widgets that allow users to interact with Jupyter notebooks and web applications. They can be used to create simple GUI-like interfaces within Jupyter notebooks.\n",
    "\n",
    "For example, you can create sliders, dropdown menus, and text boxes that allow users to input data and interact with your code. You can then use this data to:\n",
    "* perform calculations, \n",
    "* run simulations, \n",
    "* visualize data,\n",
    "* or perhaps [implement](https://blog.dominodatalab.com/interactive-dashboards-in-jupyter/) [reporting](https://blog.dominodatalab.com/lesser-known-ways-of-using-notebooks/) (as a Business Intelligence application... more on **18BI**)."
   ]
  },
  {
   "cell_type": "markdown",
   "id": "448ed78b",
   "metadata": {
    "slideshow": {
     "slide_type": "slide"
    }
   },
   "source": [
    "# IPython Widgets\n",
    "\n",
    "To be continued..."
   ]
  }
 ],
 "metadata": {
  "celltoolbar": "Slideshow",
  "kernelspec": {
   "display_name": "Python 3 (ipykernel)",
   "language": "python",
   "name": "python3"
  },
  "language_info": {
   "codemirror_mode": {
    "name": "ipython",
    "version": 3
   },
   "file_extension": ".py",
   "mimetype": "text/x-python",
   "name": "python",
   "nbconvert_exporter": "python",
   "pygments_lexer": "ipython3",
   "version": "3.10.8"
  }
 },
 "nbformat": 4,
 "nbformat_minor": 5
}
