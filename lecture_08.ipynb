{
 "cells": [
  {
   "cell_type": "markdown",
   "id": "7ed8199c",
   "metadata": {
    "slideshow": {
     "slide_type": "slide"
    }
   },
   "source": [
    "# Welcome to PPY lecture #8, April 4 2023\n",
    "\n",
    "Focus: data processing, analysis, and visualization in Python"
   ]
  },
  {
   "cell_type": "markdown",
   "id": "7e1b1b36",
   "metadata": {
    "slideshow": {
     "slide_type": "slide"
    }
   },
   "source": [
    "**But first...** let us create some useful data to process!\n",
    "\n",
    "https://forms.gle/8AigRvjHVBgFKfeV6\n",
    "\n",
    "![QR](src/survey_qr.png)"
   ]
  },
  {
   "cell_type": "code",
   "execution_count": 5,
   "id": "e6b59555",
   "metadata": {
    "slideshow": {
     "slide_type": "slide"
    }
   },
   "outputs": [],
   "source": [
    "# and then...\n",
    "import pandas as pd\n",
    "\n",
    "# df = pandas.read_  # TBD"
   ]
  }
 ],
 "metadata": {
  "celltoolbar": "Slideshow",
  "kernelspec": {
   "display_name": "Python 3 (ipykernel)",
   "language": "python",
   "name": "python3"
  },
  "language_info": {
   "codemirror_mode": {
    "name": "ipython",
    "version": 3
   },
   "file_extension": ".py",
   "mimetype": "text/x-python",
   "name": "python",
   "nbconvert_exporter": "python",
   "pygments_lexer": "ipython3",
   "version": "3.10.8"
  }
 },
 "nbformat": 4,
 "nbformat_minor": 5
}
