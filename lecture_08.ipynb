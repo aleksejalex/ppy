{
 "cells": [
  {
   "cell_type": "markdown",
   "id": "7ed8199c",
   "metadata": {
    "slideshow": {
     "slide_type": "slide"
    }
   },
   "source": [
    "# Welcome to PPY lecture #8, April 4 2023\n",
    "\n",
    "Focus: data processing, analysis, and visualization in Python"
   ]
  },
  {
   "cell_type": "markdown",
   "id": "7e1b1b36",
   "metadata": {
    "slideshow": {
     "slide_type": "slide"
    }
   },
   "source": [
    "**But first...** let us create some useful data to process!\n",
    "\n",
    "https://forms.gle/8AigRvjHVBgFKfeV6\n",
    "\n",
    "![QR](src/survey_qr.png)"
   ]
  },
  {
   "cell_type": "code",
   "execution_count": 1,
   "id": "5e9099f6",
   "metadata": {
    "slideshow": {
     "slide_type": "slide"
    }
   },
   "outputs": [],
   "source": [
    "# and then...\n",
    "import pandas as pd"
   ]
  },
  {
   "cell_type": "code",
   "execution_count": 2,
   "id": "9ee20af8",
   "metadata": {},
   "outputs": [],
   "source": [
    "# read the data in Excel format\n",
    "df = pd.read_excel('PPY Student Survey (Responses).xlsx')"
   ]
  },
  {
   "cell_type": "code",
   "execution_count": 3,
   "id": "399c5f97",
   "metadata": {},
   "outputs": [
    {
     "name": "stdout",
     "output_type": "stream",
     "text": [
      "<class 'pandas.core.frame.DataFrame'>\n"
     ]
    }
   ],
   "source": [
    "print(type(df))"
   ]
  },
  {
   "cell_type": "code",
   "execution_count": 4,
   "id": "59300d60",
   "metadata": {
    "scrolled": false
   },
   "outputs": [
    {
     "data": {
      "text/html": [
       "<div>\n",
       "<style scoped>\n",
       "    .dataframe tbody tr th:only-of-type {\n",
       "        vertical-align: middle;\n",
       "    }\n",
       "\n",
       "    .dataframe tbody tr th {\n",
       "        vertical-align: top;\n",
       "    }\n",
       "\n",
       "    .dataframe thead th {\n",
       "        text-align: right;\n",
       "    }\n",
       "</style>\n",
       "<table border=\"1\" class=\"dataframe\">\n",
       "  <thead>\n",
       "    <tr style=\"text-align: right;\">\n",
       "      <th></th>\n",
       "      <th>Timestamp</th>\n",
       "      <th>What motivated you to take this course?</th>\n",
       "      <th>How familiar with Python were you before taking this course?</th>\n",
       "      <th>Which modules can you work now with? (eg. functools, re)</th>\n",
       "      <th>What do you think of the course pace?</th>\n",
       "      <th>Were there any specific topics, or examples, that you struggled with in the course?</th>\n",
       "      <th>Are there any specific libraries/concepts you are looking forward to learn about?</th>\n",
       "      <th>Did the course inspire you to learn more about Python or programming in general?</th>\n",
       "      <th>If you had to describe this course using a movie title, which one would you choose?</th>\n",
       "    </tr>\n",
       "  </thead>\n",
       "  <tbody>\n",
       "    <tr>\n",
       "      <th>0</th>\n",
       "      <td>2023-04-04 07:39:01.238</td>\n",
       "      <td>NaN</td>\n",
       "      <td>1</td>\n",
       "      <td>lambda, one-liners</td>\n",
       "      <td>OK</td>\n",
       "      <td>one-liners</td>\n",
       "      <td>math, matplotlib</td>\n",
       "      <td>Yes</td>\n",
       "      <td>Monty Python and the Holy Grail</td>\n",
       "    </tr>\n",
       "    <tr>\n",
       "      <th>1</th>\n",
       "      <td>2023-04-04 08:05:04.628</td>\n",
       "      <td>NaN</td>\n",
       "      <td>2</td>\n",
       "      <td>NaN</td>\n",
       "      <td>OK</td>\n",
       "      <td>Object oriented programming</td>\n",
       "      <td>NaN</td>\n",
       "      <td>Yes</td>\n",
       "      <td>Monty Python and the Holy Grail</td>\n",
       "    </tr>\n",
       "    <tr>\n",
       "      <th>2</th>\n",
       "      <td>2023-04-04 08:08:11.432</td>\n",
       "      <td>Python je docela užitečný a moderní programova...</td>\n",
       "      <td>2</td>\n",
       "      <td>Numpy, random</td>\n",
       "      <td>OK</td>\n",
       "      <td>Ráda bych se zaměřila na nějaké cykly, vzít je...</td>\n",
       "      <td>Možná obecně nějaké představení užitečných kni...</td>\n",
       "      <td>Yes</td>\n",
       "      <td>Mickeyho klubík (tutorial polopatě :))</td>\n",
       "    </tr>\n",
       "    <tr>\n",
       "      <th>3</th>\n",
       "      <td>2023-04-04 08:08:26.596</td>\n",
       "      <td>I was curious.</td>\n",
       "      <td>2</td>\n",
       "      <td>functools</td>\n",
       "      <td>OK</td>\n",
       "      <td>No</td>\n",
       "      <td>I'm not sure.</td>\n",
       "      <td>Maybe</td>\n",
       "      <td>Monty Python and the Holy Grail</td>\n",
       "    </tr>\n",
       "    <tr>\n",
       "      <th>4</th>\n",
       "      <td>2023-04-04 08:09:00.663</td>\n",
       "      <td>Credits</td>\n",
       "      <td>1</td>\n",
       "      <td>Numpy</td>\n",
       "      <td>OK</td>\n",
       "      <td>Středník</td>\n",
       "      <td>Databáze a vizualizace</td>\n",
       "      <td>Yes</td>\n",
       "      <td>Pán prstenů Návrat krále</td>\n",
       "    </tr>\n",
       "  </tbody>\n",
       "</table>\n",
       "</div>"
      ],
      "text/plain": [
       "                Timestamp            What motivated you to take this course?   \n",
       "0 2023-04-04 07:39:01.238                                                NaN  \\\n",
       "1 2023-04-04 08:05:04.628                                                NaN   \n",
       "2 2023-04-04 08:08:11.432  Python je docela užitečný a moderní programova...   \n",
       "3 2023-04-04 08:08:26.596                                     I was curious.   \n",
       "4 2023-04-04 08:09:00.663                                           Credits    \n",
       "\n",
       "   How familiar with Python were you before taking this course?   \n",
       "0                                                  1             \\\n",
       "1                                                  2              \n",
       "2                                                  2              \n",
       "3                                                  2              \n",
       "4                                                  1              \n",
       "\n",
       "  Which modules can you work now with? (eg. functools, re)   \n",
       "0                                 lambda, one-liners        \\\n",
       "1                                                NaN         \n",
       "2                                     Numpy, random          \n",
       "3                                          functools         \n",
       "4                                              Numpy         \n",
       "\n",
       "  What do you think of the course pace?   \n",
       "0                                    OK  \\\n",
       "1                                    OK   \n",
       "2                                    OK   \n",
       "3                                    OK   \n",
       "4                                    OK   \n",
       "\n",
       "  Were there any specific topics, or examples, that you struggled with in the course?   \n",
       "0                                         one-liners                                   \\\n",
       "1                        Object oriented programming                                    \n",
       "2  Ráda bych se zaměřila na nějaké cykly, vzít je...                                    \n",
       "3                                                 No                                    \n",
       "4                                          Středník                                     \n",
       "\n",
       "  Are there any specific libraries/concepts you are looking forward to learn about?   \n",
       "0                                   math, matplotlib                                 \\\n",
       "1                                                NaN                                  \n",
       "2  Možná obecně nějaké představení užitečných kni...                                  \n",
       "3                                      I'm not sure.                                  \n",
       "4                            Databáze a vizualizace                                   \n",
       "\n",
       "  Did the course inspire you to learn more about Python or programming in general?   \n",
       "0                                                Yes                                \\\n",
       "1                                                Yes                                 \n",
       "2                                                Yes                                 \n",
       "3                                              Maybe                                 \n",
       "4                                                Yes                                 \n",
       "\n",
       "  If you had to describe this course using a movie title, which one would you choose?  \n",
       "0                    Monty Python and the Holy Grail                                   \n",
       "1                    Monty Python and the Holy Grail                                   \n",
       "2             Mickeyho klubík (tutorial polopatě :))                                   \n",
       "3                    Monty Python and the Holy Grail                                   \n",
       "4                          Pán prstenů Návrat krále                                    "
      ]
     },
     "execution_count": 4,
     "metadata": {},
     "output_type": "execute_result"
    }
   ],
   "source": [
    "# check that the data look good\n",
    "df.head()"
   ]
  },
  {
   "cell_type": "code",
   "execution_count": 5,
   "id": "60367f4e",
   "metadata": {},
   "outputs": [
    {
     "name": "stdout",
     "output_type": "stream",
     "text": [
      "<class 'pandas.core.frame.DataFrame'>\n",
      "RangeIndex: 8 entries, 0 to 7\n",
      "Data columns (total 9 columns):\n",
      " #   Column                                                                               Non-Null Count  Dtype         \n",
      "---  ------                                                                               --------------  -----         \n",
      " 0   Timestamp                                                                            8 non-null      datetime64[ns]\n",
      " 1   What motivated you to take this course?                                              6 non-null      object        \n",
      " 2   How familiar with Python were you before taking this course?                         8 non-null      int64         \n",
      " 3   Which modules can you work now with? (eg. functools, re)                             7 non-null      object        \n",
      " 4   What do you think of the course pace?                                                8 non-null      object        \n",
      " 5   Were there any specific topics, or examples, that you struggled with in the course?  6 non-null      object        \n",
      " 6   Are there any specific libraries/concepts you are looking forward to learn about?    6 non-null      object        \n",
      " 7   Did the course inspire you to learn more about Python or programming in general?     8 non-null      object        \n",
      " 8   If you had to describe this course using a movie title, which one would you choose?  8 non-null      object        \n",
      "dtypes: datetime64[ns](1), int64(1), object(7)\n",
      "memory usage: 704.0+ bytes\n"
     ]
    }
   ],
   "source": [
    "# a more comprehensive summary of the dataset (useful for larger datasets, of course)\n",
    "df.info()"
   ]
  },
  {
   "cell_type": "code",
   "execution_count": 6,
   "id": "f8ee9f71",
   "metadata": {},
   "outputs": [
    {
     "data": {
      "text/plain": [
       "0      Yes\n",
       "1      Yes\n",
       "2      Yes\n",
       "3    Maybe\n",
       "4      Yes\n",
       "5      Yes\n",
       "6      Yes\n",
       "7    Maybe\n",
       "Name: Did the course inspire you to learn more about Python or programming in general?, dtype: object"
      ]
     },
     "execution_count": 6,
     "metadata": {},
     "output_type": "execute_result"
    }
   ],
   "source": [
    "# let us have a look at some of the answers\n",
    "df['Did the course inspire you to learn more about Python or programming in general?']"
   ]
  },
  {
   "cell_type": "code",
   "execution_count": 7,
   "id": "ec76a675",
   "metadata": {},
   "outputs": [
    {
     "data": {
      "text/plain": [
       "Did the course inspire you to learn more about Python or programming in general?\n",
       "Yes      6\n",
       "Maybe    2\n",
       "Name: count, dtype: int64"
      ]
     },
     "execution_count": 7,
     "metadata": {},
     "output_type": "execute_result"
    }
   ],
   "source": [
    "# frequencies can be calculated easily:\n",
    "df['Did the course inspire you to learn more about Python or programming in general?'].value_counts()"
   ]
  },
  {
   "cell_type": "code",
   "execution_count": 8,
   "id": "7dfd34c6",
   "metadata": {},
   "outputs": [
    {
     "data": {
      "text/plain": [
       "Did the course inspire you to learn more about Python or programming in general?\n",
       "Yes      0.75\n",
       "Maybe    0.25\n",
       "Name: proportion, dtype: float64"
      ]
     },
     "execution_count": 8,
     "metadata": {},
     "output_type": "execute_result"
    }
   ],
   "source": [
    "# also relatively\n",
    "df['Did the course inspire you to learn more about Python or programming in general?'].value_counts(normalize=True)"
   ]
  },
  {
   "cell_type": "code",
   "execution_count": 9,
   "id": "23f9d346",
   "metadata": {},
   "outputs": [
    {
     "data": {
      "text/plain": [
       "count    8.000000\n",
       "mean     1.625000\n",
       "std      0.517549\n",
       "min      1.000000\n",
       "25%      1.000000\n",
       "50%      2.000000\n",
       "75%      2.000000\n",
       "max      2.000000\n",
       "Name: How familiar with Python were you before taking this course?, dtype: float64"
      ]
     },
     "execution_count": 9,
     "metadata": {},
     "output_type": "execute_result"
    }
   ],
   "source": [
    "# for numerical variables, describe() gives you an idea of their distribution\n",
    "df['How familiar with Python were you before taking this course?'].describe()"
   ]
  },
  {
   "cell_type": "code",
   "execution_count": 10,
   "id": "e289ff83",
   "metadata": {},
   "outputs": [
    {
     "data": {
      "text/plain": [
       "Did the course inspire you to learn more about Python or programming in general?\n",
       "Maybe    1.500000\n",
       "Yes      1.666667\n",
       "Name: How familiar with Python were you before taking this course?, dtype: float64"
      ]
     },
     "execution_count": 10,
     "metadata": {},
     "output_type": "execute_result"
    }
   ],
   "source": [
    "# we can look at the distribution based on an another answer...\n",
    "df\\\n",
    ".groupby('Did the course inspire you to learn more about Python or programming in general?')\\\n",
    "['How familiar with Python were you before taking this course?'].mean()  # <--- feel free to try different aggregation functions!"
   ]
  },
  {
   "cell_type": "code",
   "execution_count": 11,
   "id": "0d47d4cc",
   "metadata": {},
   "outputs": [],
   "source": [
    "# we can convert tables into figures using plot():\n",
    "stats = df.groupby(['Did the course inspire you to learn more about Python or programming in general?'])['How familiar with Python were you before taking this course?'].count()"
   ]
  },
  {
   "cell_type": "code",
   "execution_count": 12,
   "id": "697a2103",
   "metadata": {},
   "outputs": [
    {
     "data": {
      "text/plain": [
       "Did the course inspire you to learn more about Python or programming in general?\n",
       "Maybe    2\n",
       "Yes      6\n",
       "Name: How familiar with Python were you before taking this course?, dtype: int64"
      ]
     },
     "execution_count": 12,
     "metadata": {},
     "output_type": "execute_result"
    }
   ],
   "source": [
    "stats"
   ]
  },
  {
   "cell_type": "code",
   "execution_count": 13,
   "id": "51572d5f",
   "metadata": {
    "scrolled": false
   },
   "outputs": [
    {
     "data": {
      "image/png": "[encoded data removed]",
      "text/plain": [
       "<Figure size 640x480 with 1 Axes>"
      ]
     },
     "metadata": {},
     "output_type": "display_data"
    }
   ],
   "source": [
    "stats.plot(kind='bar');"
   ]
  },
  {
   "cell_type": "markdown",
   "id": "f41e7e2f",
   "metadata": {},
   "source": [
    "# Homework\n",
    "\n",
    "Analyze your favorite data set (export from KOS, football team results, etc...) using `pandas`."
   ]
  }
 ],
 "metadata": {
  "celltoolbar": "Slideshow",
  "kernelspec": {
   "display_name": "Python 3 (ipykernel)",
   "language": "python",
   "name": "python3"
  },
  "language_info": {
   "codemirror_mode": {
    "name": "ipython",
    "version": 3
   },
   "file_extension": ".py",
   "mimetype": "text/x-python",
   "name": "python",
   "nbconvert_exporter": "python",
   "pygments_lexer": "ipython3",
   "version": "3.10.8"
  }
 },
 "nbformat": 4,
 "nbformat_minor": 5
}
