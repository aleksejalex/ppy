{
 "cells": [
  {
   "cell_type": "markdown",
   "id": "7ed8199c",
   "metadata": {
    "slideshow": {
     "slide_type": "slide"
    }
   },
   "source": [
    "# Welcome to PPY lecture #1, February 14 2023\n",
    "\n",
    "1. Grab a place, start the computer (ideally your own)\n",
    "2. Send an e-mail to mojzemat@fjfi.cvut.cz, subject \"I want to receive the PPY newsletter\", if you like\n",
    "3. Bookmark the repository: [github.com/matejmojzes/ppy](https://github.com/matejmojzes/ppy)"
   ]
  },
  {
   "cell_type": "markdown",
   "id": "63e5fe92",
   "metadata": {
    "slideshow": {
     "slide_type": "slide"
    }
   },
   "source": [
    "# Why Python?"
   ]
  },
  {
   "cell_type": "markdown",
   "id": "b6eb585b",
   "metadata": {
    "slideshow": {
     "slide_type": "fragment"
    }
   },
   "source": [
    "![image](src/python_vs_matlab.png)\n",
    "\n",
    "Especially because of the ease of use, versatility, and large community that have made it a popular choice for developers of all skill levels. \n",
    "\n",
    "Source of the data: [trends.google.com](https://trends.google.com/trends/explore?date=all&q=%2Fm%2F05z1_,%2Fm%2F07sbkfb,%2Fm%2F0jgqg,%2Fm%2F053_x)"
   ]
  },
  {
   "cell_type": "markdown",
   "id": "4d7fcf90",
   "metadata": {
    "slideshow": {
     "slide_type": "subslide"
    }
   },
   "source": [
    "The reasons, in more detail:\n",
    "\n",
    "1. Easy to learn: Python has a very simple and easy-to-read syntax, which makes it a great language for beginners to learn.\n",
    "2. Versatile: Python can be used for a wide range of tasks, including web development, scientific computing, data analysis, artificial intelligence, and more.\n",
    "3. Large and active community: Python has a huge and active community, which provides a wealth of libraries, tools, and support for users.\n"
   ]
  },
  {
   "cell_type": "markdown",
   "id": "ca85ae6d",
   "metadata": {
    "slideshow": {
     "slide_type": "subslide"
    }
   },
   "source": [
    "4. Great for prototyping: Python is a great language for quickly prototyping ideas and experimenting with new concepts, as it has a short development cycle.\n",
    "5. Cross-platform: Python can run on many different operating systems, including Windows, macOS, and Linux, which makes it a great choice for cross-platform development.\n",
    "6. Rich Standard Library: Python comes with a rich standard library that includes modules for a variety of programming tasks, including connecting to web servers, reading and writing files, and working with data."
   ]
  },
  {
   "cell_type": "markdown",
   "id": "60489c54",
   "metadata": {
    "slideshow": {
     "slide_type": "subslide"
    }
   },
   "source": [
    "But, there are also disadvantages/limitations, we need to be aware of:\n",
    "\n",
    "1. Performance: Python is an interpreted language, which can make it slower than compiled languages like C or C++. This can be a disadvantage for computationally intensive tasks.\n",
    "2. Dynamically Typed: Python is dynamically typed, which can make it more difficult to catch errors at compile-time and can lead to unexpected behavior at runtime.\n",
    "3. Memory Management: Python's memory management is not as efficient as other languages, which can make it less suitable for memory-intensive tasks.\n"
   ]
  },
  {
   "cell_type": "markdown",
   "id": "5b5e478f",
   "metadata": {
    "slideshow": {
     "slide_type": "subslide"
    }
   },
   "source": [
    "4. Weak in Mobile Computing: Python is not a top choice for mobile computing, as it is not as well-suited for developing mobile applications as other languages such as Java.\n",
    "5. Design Restrictions: Python's design philosophy places an emphasis on readability and ease of use, but this can sometimes come at the expense of more advanced features that are available in other languages.\n",
    "6. Quality of open-source modules might be limited in some areas, eg. for statistics R can be a better choice.\n",
    "\n",
    "Overall, I am convinced that **Python is the best when you compare the time you spend learning it and options it gives you**."
   ]
  },
  {
   "cell_type": "markdown",
   "id": "35505037",
   "metadata": {
    "slideshow": {
     "slide_type": "slide"
    }
   },
   "source": [
    "# About the lecturer\n",
    "\n",
    "My name is Matej Mojzeš and I will be your lecturer, I also:\n",
    "\n",
    "* Have a Ph.D. in integer optimization heuristics at the Department of Software Engineering, FNSPE CTU in Prague\n",
    "* Lead a data science team delivering big data solutions to global companies (built with Python!)\n",
    "* Possess years of experience in Business Intelligence, Data Warehousing, Engineering, and Data Science in both start-up and corporate environments\n",
    "\n",
    "Disclaimer: I am big fan of Python, actively use it for many years, and surely I do NOT know everything about it :) but I love learning, so maybe in some cases we will be learning together 😊"
   ]
  },
  {
   "cell_type": "markdown",
   "id": "6ca69459",
   "metadata": {
    "slideshow": {
     "slide_type": "slide"
    }
   },
   "source": [
    "# About the course\n",
    "\n",
    "We will cover the basics of Python language and the most important modules for various applications including scientific computing, data analysis, web services, and UI.\n",
    "\n",
    "I will want you to chose a domain you are interested in the most and prepare your own project that you will defend and potentially present also to your colleagues. If you feel you can do this without attending the lectures, feel free to deliver your project ASAP and skip rest of the lectures!"
   ]
  },
  {
   "cell_type": "markdown",
   "id": "f62cd05c",
   "metadata": {
    "slideshow": {
     "slide_type": "subslide"
    }
   },
   "source": [
    "![image](src/learning.jpeg)"
   ]
  },
  {
   "cell_type": "markdown",
   "id": "4f3217f6",
   "metadata": {
    "slideshow": {
     "slide_type": "slide"
    }
   },
   "source": [
    "# And finally... something about Python 😉\n",
    "\n",
    "Can you run `python` in your command prompt/terminal, and get similar result?\n",
    "\n",
    "![image](src/prompt_windows.jpeg)\n",
    "\n",
    "If not, head to [python.org/downloads/](https://www.python.org/downloads/), download and install the latest Python for your machine. Make sure you can get similar result to the above."
   ]
  },
  {
   "cell_type": "markdown",
   "id": "73d0e60f",
   "metadata": {
    "slideshow": {
     "slide_type": "slide"
    }
   },
   "source": [
    "After we have Python, the next essential thing for the lecture is to have Jupyter Notebook or Lab environment and/or IDE — if you prefer to code this way.\n",
    "\n",
    "To install Jupyter Notebook, just run `pip3 install jupyter` in your console.\n",
    "\n",
    "For IDE, I recommend [Visual Studio Code](https://code.visualstudio.com)"
   ]
  },
  {
   "cell_type": "markdown",
   "id": "cfa7e085",
   "metadata": {
    "slideshow": {
     "slide_type": "slide"
    }
   },
   "source": [
    "We should be ready for the Hello World exercise!\n",
    "\n",
    "1. Start your jupyter notebook by running `jupyter notebook` in your console\n",
    "2. It the UI (witin web browser), create a **New notebook** with Python kernel, type `print('Hello World')` in the first cell, execute it using the Run button and the result should look like this:\n",
    "\n",
    "![image](src/hello_world.png)"
   ]
  },
  {
   "cell_type": "markdown",
   "id": "014febd3",
   "metadata": {
    "slideshow": {
     "slide_type": "slide"
    }
   },
   "source": [
    "So, what just happened?\n",
    "\n",
    "* You have executed one line of python code\n",
    "* Python is still running on your computer, ready to execute the code in that cell again, or any new cell you create\n",
    "* Results of the cells will remain in the notebook after you shut down the Python kernel / notebook, you can get back to it anytime you want\n",
    "* You have witnessed how reproducible research can be easily implemented, see a [Nature article](http://www.nature.com/news/interactive-notebooks-sharing-the-code-1.16261) for more on this topic\n",
    "\n",
    "For learning purposes, we will be primarily using this interactive coding approach. Later on, we will learn how to run your code in another ways — as a script, from the console, on a server, etc."
   ]
  },
  {
   "cell_type": "markdown",
   "id": "218b793f",
   "metadata": {
    "slideshow": {
     "slide_type": "slide"
    }
   },
   "source": [
    "# Last, but not least\n"
   ]
  },
  {
   "cell_type": "code",
   "execution_count": 1,
   "id": "79337ba6",
   "metadata": {
    "slideshow": {
     "slide_type": "skip"
    }
   },
   "outputs": [],
   "source": [
    "magic = 'As you can see, this slideshow can run Python code inside the slide. This is another power of JuPYter notebooks!'"
   ]
  },
  {
   "cell_type": "code",
   "execution_count": 2,
   "id": "4903fc0a",
   "metadata": {
    "slideshow": {
     "slide_type": "fragment"
    }
   },
   "outputs": [
    {
     "name": "stdout",
     "output_type": "stream",
     "text": [
      "As you can see, this slideshow can run Python code inside the slide. This is another power of JuPYter notebooks!\n"
     ]
    }
   ],
   "source": [
    "print(magic)"
   ]
  },
  {
   "cell_type": "markdown",
   "id": "d3e49757",
   "metadata": {
    "slideshow": {
     "slide_type": "fragment"
    }
   },
   "source": [
    "Parts of this document have been created using ChatGPT. This is to demonstrate the power of publicly available resources. Make sure you will use them to your advantage too. Try to research what you want online, learn on your own and in your own pace, and feel free to use questions / discuss topics that interest you. I am more than happy to share my knowledge, experience, or discuss opinions with you, rather than repeat what is easy to find online."
   ]
  },
  {
   "cell_type": "markdown",
   "id": "599c9fe1",
   "metadata": {
    "slideshow": {
     "slide_type": "slide"
    }
   },
   "source": [
    "In fact, let's try it now: if I tell you that the `\"Hello World\"` string which we have printed previously is an array of characters, could you research a bit and find a way how to print it in reverse, ie. `\"dlroW olleH\"` in the next cell of your notebook?"
   ]
  }
 ],
 "metadata": {
  "celltoolbar": "Slideshow",
  "kernelspec": {
   "display_name": "Python 3 (ipykernel)",
   "language": "python",
   "name": "python3"
  },
  "language_info": {
   "codemirror_mode": {
    "name": "ipython",
    "version": 3
   },
   "file_extension": ".py",
   "mimetype": "text/x-python",
   "name": "python",
   "nbconvert_exporter": "python",
   "pygments_lexer": "ipython3",
   "version": "3.10.8"
  }
 },
 "nbformat": 4,
 "nbformat_minor": 5
}
