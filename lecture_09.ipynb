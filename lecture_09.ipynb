{
 "cells": [
  {
   "cell_type": "markdown",
   "id": "7ed8199c",
   "metadata": {
    "slideshow": {
     "slide_type": "slide"
    }
   },
   "source": [
    "# PPY lecture #9, April ~~11~~18 2023\n",
    "\n",
    "We will begin our talk on efficient computations in Python using NumPy and SciPy."
   ]
  },
  {
   "cell_type": "markdown",
   "id": "f2dad36d",
   "metadata": {
    "slideshow": {
     "slide_type": "slide"
    }
   },
   "source": [
    "# Before we begin, a couple notes:\n",
    "\n",
    "1. Nice [article](https://www.pythonmorsels.com/any-and-all/) on checking if `any` or `all` conditions are met, in descriptive, readable, and efficient way using generators\n",
    "2. ...I found it in one of the latest [editions](https://mailchi.mp/pythonweekly/python-weekly-issue-594?e=b50db26839) of [Python Weekly](https://www.pythonweekly.com) newsletter, and I must highly recommend subscribing to it!"
   ]
  },
  {
   "cell_type": "markdown",
   "id": "51af82fe",
   "metadata": {
    "slideshow": {
     "slide_type": "subslide"
    }
   },
   "source": [
    "3. Did you know about [Saint-Python](https://fr.wikipedia.org/wiki/Secteur_pavé_de_Saint-Python)?\n",
    "\n",
    "This is how [AI](https://www.craiyon.com) could draw it:\n",
    "\n",
    "![Saint-Python pavé secteur](src/saint_python.png)\n",
    "\n",
    "(I was watching Paris-Roubaix cycling race when preparing this lecture... 😉)"
   ]
  },
  {
   "cell_type": "markdown",
   "id": "868b3f79",
   "metadata": {
    "slideshow": {
     "slide_type": "slide"
    }
   },
   "source": [
    "# N-dimensional arrays, or `ndarray`s\n",
    "\n"
   ]
  },
  {
   "cell_type": "markdown",
   "id": "84e85d6d",
   "metadata": {
    "slideshow": {
     "slide_type": "fragment"
    }
   },
   "source": [
    "An `ndarray` is:\n",
    "* a multidimensional array object provided by the NumPy library\n",
    "* a data structure that can store homogeneous or heterogeneous data of fixed-size in a contiguous block of memory. \n",
    "* a fundamental data structure in scientific computing and data analysis in Python, and it forms the foundation of many popular libraries and frameworks, including NumPy, Pandas, and TensorFlow.\n",
    "\n",
    "Ndarrays can have any number of dimensions, from one to many, and can be created using a variety of methods, such as the `numpy.array()` function, or by reading data from a file or another data source."
   ]
  },
  {
   "cell_type": "code",
   "execution_count": 1,
   "id": "41fd6f35",
   "metadata": {
    "slideshow": {
     "slide_type": "subslide"
    }
   },
   "outputs": [],
   "source": [
    "import numpy as np  # short as np..."
   ]
  },
  {
   "cell_type": "markdown",
   "id": "950c880b",
   "metadata": {
    "slideshow": {
     "slide_type": "fragment"
    }
   },
   "source": [
    "Once an ndarray is created, its elements can be accessed and manipulated using indexing and slicing operations, just like a regular Python list:"
   ]
  },
  {
   "cell_type": "code",
   "execution_count": 2,
   "id": "d0044940",
   "metadata": {
    "slideshow": {
     "slide_type": "fragment"
    }
   },
   "outputs": [],
   "source": [
    "# create a 1D array from a list\n",
    "a = np.array([1, 2, 3, 4, 5])"
   ]
  },
  {
   "cell_type": "code",
   "execution_count": 3,
   "id": "1abe174f",
   "metadata": {
    "slideshow": {
     "slide_type": "fragment"
    }
   },
   "outputs": [
    {
     "name": "stdout",
     "output_type": "stream",
     "text": [
      "[3 4]\n"
     ]
    }
   ],
   "source": [
    "print(a[2:4])"
   ]
  },
  {
   "cell_type": "markdown",
   "id": "5cb69dd6",
   "metadata": {
    "slideshow": {
     "slide_type": "fragment"
    }
   },
   "source": [
    "And since ndarrays are stored in a contiguous block of memory, they allow for much faster and more efficient for performing mathematical operations on large amounts of data."
   ]
  },
  {
   "cell_type": "markdown",
   "id": "5b88df41",
   "metadata": {
    "slideshow": {
     "slide_type": "subslide"
    }
   },
   "source": [
    "Couple more ways of creating ndarrays (look for similarities with eg. MATLAB):"
   ]
  },
  {
   "cell_type": "code",
   "execution_count": 4,
   "id": "4875165d",
   "metadata": {
    "slideshow": {
     "slide_type": "fragment"
    }
   },
   "outputs": [
    {
     "data": {
      "text/plain": [
       "array([[1, 2, 3],\n",
       "       [4, 5, 6],\n",
       "       [7, 8, 9]])"
      ]
     },
     "execution_count": 4,
     "metadata": {},
     "output_type": "execute_result"
    }
   ],
   "source": [
    "# create a 2D array from a list of lists\n",
    "b = np.array([[1, 2, 3], [4, 5, 6], [7, 8, 9]])\n",
    "b"
   ]
  },
  {
   "cell_type": "code",
   "execution_count": 5,
   "id": "e7047a68",
   "metadata": {
    "slideshow": {
     "slide_type": "subslide"
    }
   },
   "outputs": [
    {
     "data": {
      "text/plain": [
       "array([[0., 0., 0., 0.],\n",
       "       [0., 0., 0., 0.],\n",
       "       [0., 0., 0., 0.]])"
      ]
     },
     "execution_count": 5,
     "metadata": {},
     "output_type": "execute_result"
    }
   ],
   "source": [
    "# create a 2D array with shape (3, 4) filled with zeros\n",
    "a = np.zeros((3, 4))\n",
    "a"
   ]
  },
  {
   "cell_type": "code",
   "execution_count": 6,
   "id": "87531ddf",
   "metadata": {
    "slideshow": {
     "slide_type": "subslide"
    }
   },
   "outputs": [
    {
     "data": {
      "text/plain": [
       "array([1., 1., 1., 1., 1.])"
      ]
     },
     "execution_count": 6,
     "metadata": {},
     "output_type": "execute_result"
    }
   ],
   "source": [
    "# create a 1D array with shape (5) filled with ones\n",
    "b = np.ones(5)\n",
    "b"
   ]
  },
  {
   "cell_type": "code",
   "execution_count": 7,
   "id": "87db1dec",
   "metadata": {
    "slideshow": {
     "slide_type": "subslide"
    }
   },
   "outputs": [
    {
     "data": {
      "text/plain": [
       "array([[[0.39394696, 0.1895839 , 0.15529477, 0.8791911 ],\n",
       "        [0.55727713, 0.27283673, 0.23688819, 0.02393742],\n",
       "        [0.03752672, 0.0719595 , 0.84586446, 0.04532555]],\n",
       "\n",
       "       [[0.44900557, 0.58184562, 0.01418723, 0.56344271],\n",
       "        [0.12959124, 0.80552154, 0.88453276, 0.5342757 ],\n",
       "        [0.04181917, 0.6753316 , 0.52827266, 0.97476493]]])"
      ]
     },
     "execution_count": 7,
     "metadata": {},
     "output_type": "execute_result"
    }
   ],
   "source": [
    "# create a 3D array with shape (2, 3, 4) filled with random values\n",
    "c = np.random.rand(2, 3, 4)\n",
    "c"
   ]
  },
  {
   "cell_type": "markdown",
   "id": "afd96e31",
   "metadata": {
    "slideshow": {
     "slide_type": "subslide"
    }
   },
   "source": [
    "## About data types\n",
    "\n",
    "In NumPy, specifying the data format of an ndarray is important when working with data that has a specific data type or when there is a need to optimize memory usage or processing speed. Here are some situations when you may need to specify the data format of an ndarray:"
   ]
  },
  {
   "cell_type": "markdown",
   "id": "0e794d10",
   "metadata": {
    "slideshow": {
     "slide_type": "subslide"
    }
   },
   "source": [
    "1. When working with data of a specific type:\n",
    "\n",
    "In NumPy, the data type of an ndarray is determined automatically based on the input data, but sometimes you may need to work with data of a specific type, such as integers or floats of a certain size. In such cases, you can specify the data type using the `dtype` parameter. For example:"
   ]
  },
  {
   "cell_type": "code",
   "execution_count": 8,
   "id": "1330bbfa",
   "metadata": {
    "slideshow": {
     "slide_type": "fragment"
    }
   },
   "outputs": [
    {
     "name": "stdout",
     "output_type": "stream",
     "text": [
      "[1 2 3]\n",
      "[1. 2. 3.]\n"
     ]
    }
   ],
   "source": [
    "# create an array of integers\n",
    "a = np.array([1, 2, 3], dtype=np.int32)\n",
    "print(a)\n",
    "\n",
    "# create an array of floats\n",
    "b = np.array([1.0, 2.0, 3.0], dtype=np.float64)\n",
    "print(b)"
   ]
  },
  {
   "cell_type": "markdown",
   "id": "c0775db8",
   "metadata": {
    "slideshow": {
     "slide_type": "subslide"
    }
   },
   "source": [
    "2. When optimizing memory usage:\n",
    "\n",
    "By default, NumPy uses the smallest data type that can represent the input data when creating an array. However, in some cases, you may want to use a smaller data type to optimize memory usage, especially when working with large datasets. For example, if you know that your input data will never exceed the range of a uint8 data type, you can specify dtype=np.uint8 to save memory."
   ]
  },
  {
   "cell_type": "markdown",
   "id": "1add9bd6",
   "metadata": {
    "slideshow": {
     "slide_type": "subslide"
    }
   },
   "source": [
    "3. When optimizing processing speed:\n",
    "\n",
    "The data format can also affect the processing speed of NumPy operations. For example, using a float32 data type instead of a float64 data type can result in faster computations, especially when working with large datasets. Similarly, using a contiguous memory layout can improve the speed of some operations, such as matrix multiplication, compared to a non-contiguous layout."
   ]
  },
  {
   "cell_type": "code",
   "execution_count": 9,
   "id": "f198680c",
   "metadata": {
    "slideshow": {
     "slide_type": "fragment"
    }
   },
   "outputs": [],
   "source": [
    "# create two arrays of size 1000x1000\n",
    "a = np.random.rand(1000, 1000)\n",
    "b = np.random.rand(1000, 1000)"
   ]
  },
  {
   "cell_type": "code",
   "execution_count": 10,
   "id": "57bc7563",
   "metadata": {
    "slideshow": {
     "slide_type": "subslide"
    }
   },
   "outputs": [
    {
     "data": {
      "text/plain": [
       "dtype('float64')"
      ]
     },
     "execution_count": 10,
     "metadata": {},
     "output_type": "execute_result"
    }
   ],
   "source": [
    "a.dtype"
   ]
  },
  {
   "cell_type": "code",
   "execution_count": 11,
   "id": "d4e6373c",
   "metadata": {
    "slideshow": {
     "slide_type": "fragment"
    }
   },
   "outputs": [
    {
     "name": "stdout",
     "output_type": "stream",
     "text": [
      "22.5 ms ± 3.07 ms per loop (mean ± std. dev. of 7 runs, 10 loops each)\n"
     ]
    }
   ],
   "source": [
    "%%timeit\n",
    "c = np.dot(a, b)"
   ]
  },
  {
   "cell_type": "code",
   "execution_count": 12,
   "id": "a7c6e375",
   "metadata": {
    "slideshow": {
     "slide_type": "fragment"
    }
   },
   "outputs": [],
   "source": [
    "a = a.astype(np.float32)\n",
    "b = b.astype(np.float32)"
   ]
  },
  {
   "cell_type": "code",
   "execution_count": 13,
   "id": "a6f3f886",
   "metadata": {
    "slideshow": {
     "slide_type": "fragment"
    }
   },
   "outputs": [
    {
     "name": "stdout",
     "output_type": "stream",
     "text": [
      "9.57 ms ± 397 µs per loop (mean ± std. dev. of 7 runs, 100 loops each)\n"
     ]
    }
   ],
   "source": [
    "%%timeit\n",
    "c = np.dot(a, b)"
   ]
  },
  {
   "cell_type": "markdown",
   "id": "724cae82",
   "metadata": {
    "slideshow": {
     "slide_type": "fragment"
    }
   },
   "source": [
    "In this code, we create two 1000x1000 arrays filled with random values and perform matrix multiplication using `np.dot()` function. We measure the time taken for matrix multiplication using both `float64` and `float32` data types. The results may vary on different machines, but on most machines, you should see that matrix multiplication with `float32` data type is faster than `float64` data type."
   ]
  },
  {
   "cell_type": "markdown",
   "id": "b593ac94",
   "metadata": {
    "slideshow": {
     "slide_type": "subslide"
    }
   },
   "source": [
    "## ...but why bother with `ndarray` at all?\n",
    "\n",
    "Suppose we have two arrays: one ndarray and one ordinary Python list, each containing 1 million integers. We want to compute the square of each element in the array and measure the time taken for the operation."
   ]
  },
  {
   "cell_type": "code",
   "execution_count": 14,
   "id": "e17df591",
   "metadata": {
    "slideshow": {
     "slide_type": "fragment"
    }
   },
   "outputs": [],
   "source": [
    "a = np.random.randint(0, 100, size=1_000_000)"
   ]
  },
  {
   "cell_type": "code",
   "execution_count": 15,
   "id": "05b37ade",
   "metadata": {
    "slideshow": {
     "slide_type": "fragment"
    }
   },
   "outputs": [
    {
     "name": "stdout",
     "output_type": "stream",
     "text": [
      "645 µs ± 16.5 µs per loop (mean ± std. dev. of 7 runs, 1,000 loops each)\n"
     ]
    }
   ],
   "source": [
    "%%timeit\n",
    "b = a*2"
   ]
  },
  {
   "cell_type": "markdown",
   "id": "c5bfac15",
   "metadata": {
    "slideshow": {
     "slide_type": "fragment"
    }
   },
   "source": [
    "And here's how we can do the same thing using a list:"
   ]
  },
  {
   "cell_type": "code",
   "execution_count": 16,
   "id": "ef6462ce",
   "metadata": {
    "slideshow": {
     "slide_type": "fragment"
    }
   },
   "outputs": [],
   "source": [
    "a = [i for i in range(1000000)]"
   ]
  },
  {
   "cell_type": "code",
   "execution_count": 17,
   "id": "95ab7617",
   "metadata": {
    "slideshow": {
     "slide_type": "fragment"
    }
   },
   "outputs": [
    {
     "name": "stdout",
     "output_type": "stream",
     "text": [
      "23.2 ms ± 180 µs per loop (mean ± std. dev. of 7 runs, 10 loops each)\n"
     ]
    }
   ],
   "source": [
    "%%timeit\n",
    "b = [i*2 for i in a]"
   ]
  },
  {
   "cell_type": "markdown",
   "id": "583ff551",
   "metadata": {
    "slideshow": {
     "slide_type": "subslide"
    }
   },
   "source": [
    "This is because the ndarray is optimized for **vectorized operations**, and can perform mathematical operations on large amounts of data in parallel using low-level, optimized code. In contrast, the list requires looping over each element and performing the operation one at a time, which is much slower."
   ]
  },
  {
   "cell_type": "markdown",
   "id": "660ad4c0",
   "metadata": {
    "slideshow": {
     "slide_type": "fragment"
    }
   },
   "source": [
    "A nice summarization article on vectorization: https://towardsdatascience.com/how-to-speedup-data-processing-with-numpy-vectorization-12acac71cfca, including links to more detailed sources.\n",
    "\n",
    "TL;DR the (second) key term is **broadcasting**:\n",
    "\n",
    "> The term broadcasting describes how NumPy treats arrays with different shapes during arithmetic operations. Subject to certain constraints, the smaller array is “broadcast” across the larger array so that they have compatible shapes. Broadcasting provides a means of vectorizing array operations so that looping occurs in C instead of Python."
   ]
  },
  {
   "cell_type": "markdown",
   "id": "0720de3d",
   "metadata": {
    "slideshow": {
     "slide_type": "subslide"
    }
   },
   "source": [
    "However, in the article, you will find also a primer for a later talk about (fast) data processing using `pandas`, we have seen in 8th lecture — we will get back to it next time."
   ]
  }
 ],
 "metadata": {
  "celltoolbar": "Slideshow",
  "kernelspec": {
   "display_name": "Python 3 (ipykernel)",
   "language": "python",
   "name": "python3"
  },
  "language_info": {
   "codemirror_mode": {
    "name": "ipython",
    "version": 3
   },
   "file_extension": ".py",
   "mimetype": "text/x-python",
   "name": "python",
   "nbconvert_exporter": "python",
   "pygments_lexer": "ipython3",
   "version": "3.10.8"
  }
 },
 "nbformat": 4,
 "nbformat_minor": 5
}
