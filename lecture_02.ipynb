{
 "cells": [
  {
   "cell_type": "markdown",
   "id": "7ed8199c",
   "metadata": {
    "slideshow": {
     "slide_type": "slide"
    }
   },
   "source": [
    "# Welcome to PPY lecture #2, February 21 2023\n",
    "\n",
    "1. Grab a place, start your computer, if you can\n",
    "2. Send an e-mail to mojzemat@fjfi.cvut.cz, subject _I want to receive the PPY newsletter_, if you like (and haven't yet)\n",
    "3. Bookmark the repository: [github.com/matejmojzes/ppy](https://github.com/matejmojzes/ppy), open the `lecture_02.ipynb`, where you will find everything for today — introduction to:\n",
    "  * variables\n",
    "  * how to control the flow of your algorithm — execute the commands you want, and how many times you need, based on variables\n",
    "  * how to work with functions"
   ]
  },
  {
   "cell_type": "markdown",
   "id": "63e5fe92",
   "metadata": {
    "slideshow": {
     "slide_type": "slide"
    }
   },
   "source": [
    "# Variables\n",
    "\n",
    "A variable is a label that is used to refer to a value stored in memory. When you create a variable in Python, you can assign a value to it using the assignment operator `=`. Here is an example:"
   ]
  },
  {
   "cell_type": "code",
   "execution_count": 1,
   "id": "ff9b32ed",
   "metadata": {
    "slideshow": {
     "slide_type": "fragment"
    }
   },
   "outputs": [],
   "source": [
    "x = 5"
   ]
  },
  {
   "cell_type": "markdown",
   "id": "cb42cd7c",
   "metadata": {
    "slideshow": {
     "slide_type": "fragment"
    }
   },
   "source": [
    "In this example, the variable `x` is assigned the value 5. You can then use the variable `x` in your program to refer to this value. For example, you could print the value of `x` using the `print()` function:"
   ]
  },
  {
   "cell_type": "code",
   "execution_count": 2,
   "id": "ebd0cd46",
   "metadata": {
    "scrolled": true,
    "slideshow": {
     "slide_type": "fragment"
    }
   },
   "outputs": [
    {
     "name": "stdout",
     "output_type": "stream",
     "text": [
      "5\n"
     ]
    }
   ],
   "source": [
    "print(x)"
   ]
  },
  {
   "cell_type": "markdown",
   "id": "ef119583",
   "metadata": {
    "slideshow": {
     "slide_type": "subslide"
    }
   },
   "source": [
    "In Python, variables are dynamically typed, which means that you don't have to declare the type of a variable before you use it. The type of the variable is determined based on the type of the value that is assigned to it. For example, in the previous example, the variable x is assigned the value 5, which is an integer, so the type of x is also an integer.\n",
    "\n",
    "You can also reassign the value of a variable in Python. For example:"
   ]
  },
  {
   "cell_type": "code",
   "execution_count": 3,
   "id": "5a841c3f",
   "metadata": {
    "slideshow": {
     "slide_type": "fragment"
    }
   },
   "outputs": [
    {
     "name": "stdout",
     "output_type": "stream",
     "text": [
      "5\n",
      "Hello, world!\n"
     ]
    }
   ],
   "source": [
    "x = 5\n",
    "print(x)\n",
    "\n",
    "x = \"Hello, world!\"\n",
    "print(x)"
   ]
  },
  {
   "cell_type": "markdown",
   "id": "a360aaab",
   "metadata": {
    "slideshow": {
     "slide_type": "subslide"
    }
   },
   "source": [
    "Python has several built-in data types that can be used to store values in variables. Some of the most common data types are:\n",
    "\n",
    "1. Integers: Integers are whole numbers, such as -5, 0, and 42. They are represented in Python using the `int` data type.\n",
    "2. Floating-point numbers: Floating-point numbers are decimal numbers, such as 3.14, -0.5, and 1.0. They are represented in Python using the `float` data type.\n",
    "3. Strings: Strings are sequences of characters, such as \"hello\", \"world\", and \"123\". They are represented in Python using the `str` data type.\n",
    "4. Booleans: Booleans represent the truth values `True` and `False`. They are represented in Python using the `bool` data type."
   ]
  },
  {
   "cell_type": "markdown",
   "id": "f32c7202",
   "metadata": {
    "slideshow": {
     "slide_type": "subslide"
    }
   },
   "source": [
    "By the way, Python can tell you what data type a particular variable is.\n",
    "\n",
    "Remember `x`?"
   ]
  },
  {
   "cell_type": "code",
   "execution_count": 4,
   "id": "83700c1c",
   "metadata": {
    "slideshow": {
     "slide_type": "fragment"
    }
   },
   "outputs": [
    {
     "name": "stdout",
     "output_type": "stream",
     "text": [
      "<class 'str'>\n"
     ]
    }
   ],
   "source": [
    "print(type(x))"
   ]
  },
  {
   "cell_type": "markdown",
   "id": "00adcca7",
   "metadata": {
    "slideshow": {
     "slide_type": "slide"
    }
   },
   "source": [
    "# Conditions"
   ]
  },
  {
   "cell_type": "markdown",
   "id": "98c55d65",
   "metadata": {
    "slideshow": {
     "slide_type": "fragment"
    }
   },
   "source": [
    "Conditions allow you to perform different actions depending on whether a certain statement, or variable is true or false. In Python, the most commonly used conditional statements are `if`, `elif`, and `else`. Here is an example of how to use if statements:"
   ]
  },
  {
   "cell_type": "code",
   "execution_count": 5,
   "id": "ee782ec8",
   "metadata": {
    "slideshow": {
     "slide_type": "fragment"
    }
   },
   "outputs": [
    {
     "name": "stdout",
     "output_type": "stream",
     "text": [
      "x is positive\n"
     ]
    }
   ],
   "source": [
    "x = 5\n",
    "if x > 0:\n",
    "    print('x is positive')"
   ]
  },
  {
   "cell_type": "markdown",
   "id": "c7a07c73",
   "metadata": {
    "slideshow": {
     "slide_type": "fragment"
    }
   },
   "source": [
    "In this example, the program checks whether `x` is greater than 0. If the condition is true, the program executes the `print` statement, which displays the message \"x is positive\". If the condition is false, the program skips the `print` statement and continues executing the rest of the code."
   ]
  },
  {
   "cell_type": "markdown",
   "id": "27d8fbf5",
   "metadata": {
    "slideshow": {
     "slide_type": "subslide"
    }
   },
   "source": [
    "Here's an example of how to use `if` and `else` statements:"
   ]
  },
  {
   "cell_type": "code",
   "execution_count": 6,
   "id": "a5a491dc",
   "metadata": {
    "slideshow": {
     "slide_type": "fragment"
    }
   },
   "outputs": [
    {
     "name": "stdout",
     "output_type": "stream",
     "text": [
      "x is positive\n"
     ]
    }
   ],
   "source": [
    "x = 5\n",
    "if x > 0:\n",
    "    print('x is positive')\n",
    "else:\n",
    "    print('x is not positive')"
   ]
  },
  {
   "cell_type": "markdown",
   "id": "09f3cef4",
   "metadata": {
    "slideshow": {
     "slide_type": "fragment"
    }
   },
   "source": [
    "In this example, if `x` is greater than 0, the program executes the print statement that says \"x is positive\". If `x` is not greater than 0, the program executes the else block and displays the message \"x is not positive\"."
   ]
  },
  {
   "cell_type": "markdown",
   "id": "f993bc45",
   "metadata": {
    "slideshow": {
     "slide_type": "subslide"
    }
   },
   "source": [
    "Finally, here's an example of how to use `if`, `elif`, and `else` statements:"
   ]
  },
  {
   "cell_type": "code",
   "execution_count": 7,
   "id": "d13ed022",
   "metadata": {
    "slideshow": {
     "slide_type": "fragment"
    }
   },
   "outputs": [
    {
     "name": "stdout",
     "output_type": "stream",
     "text": [
      "x is positive\n"
     ]
    }
   ],
   "source": [
    "x = 5\n",
    "if x > 0:\n",
    "    print('x is positive')\n",
    "elif x == 0:\n",
    "    print('x is zero')\n",
    "else:\n",
    "    print('x is negative')"
   ]
  },
  {
   "cell_type": "markdown",
   "id": "6f36429f",
   "metadata": {},
   "source": [
    "In this example, if `x` is greater than 0, the program executes the `print` statement that says \"x is positive\". If `x` is equal to 0, the program executes the `elif` block and displays the message \"x is zero\". If `x` is not greater than 0 and not equal to 0, the program executes the `else` block and displays the message \"x is negative\"."
   ]
  },
  {
   "cell_type": "markdown",
   "id": "9354fb10",
   "metadata": {
    "slideshow": {
     "slide_type": "subslide"
    }
   },
   "source": [
    "# Shorthand conditions\n",
    "\n",
    "If there is only one command you would like to run if its conditions are met, you can make your code shorter (and better readable, as we discussed the last time):"
   ]
  },
  {
   "cell_type": "code",
   "execution_count": 8,
   "id": "cc51213a",
   "metadata": {
    "slideshow": {
     "slide_type": "fragment"
    }
   },
   "outputs": [
    {
     "name": "stdout",
     "output_type": "stream",
     "text": [
      "x is greater than zero\n"
     ]
    }
   ],
   "source": [
    "x = 5\n",
    "if x > 0: print('x is greater than zero')"
   ]
  },
  {
   "cell_type": "code",
   "execution_count": 9,
   "id": "c77bc486",
   "metadata": {
    "slideshow": {
     "slide_type": "fragment"
    }
   },
   "outputs": [
    {
     "name": "stdout",
     "output_type": "stream",
     "text": [
      "x is greater than zero\n"
     ]
    }
   ],
   "source": [
    "x = 5\n",
    "print('x is greater than zero') if x > 0 else print('x is NOT greater than zero')"
   ]
  },
  {
   "cell_type": "markdown",
   "id": "a2aa4333",
   "metadata": {
    "slideshow": {
     "slide_type": "slide"
    }
   },
   "source": [
    "# Operators\n",
    "\n",
    "In Python, you can use a variety of operators to create conditions that evaluate to either `True` or `False`. Here are some of the most commonly used operators:\n",
    "\n",
    "1. Comparison Operators: These operators are used to compare two values and determine whether they are equal, not equal, greater than, less than, etc. Here are the most commonly used comparison operators:\n",
    "* `==` (equal to)\n",
    "* `!=` (not equal to)\n",
    "* `<` (less than)\n",
    "* `>` (greater than)\n",
    "* `<=` (less than or equal to)\n",
    "* `>=` (greater than or equal to)"
   ]
  },
  {
   "cell_type": "markdown",
   "id": "9d4fc953",
   "metadata": {
    "slideshow": {
     "slide_type": "subslide"
    }
   },
   "source": [
    "Pro-tip, comparisons can be chained (similarly to the mathematics):"
   ]
  },
  {
   "cell_type": "code",
   "execution_count": 10,
   "id": "349a703a",
   "metadata": {
    "slideshow": {
     "slide_type": "fragment"
    }
   },
   "outputs": [
    {
     "name": "stdout",
     "output_type": "stream",
     "text": [
      "True\n"
     ]
    }
   ],
   "source": [
    "print(1 <= 2 <= 3)"
   ]
  },
  {
   "cell_type": "markdown",
   "id": "61730e1a",
   "metadata": {
    "slideshow": {
     "slide_type": "subslide"
    }
   },
   "source": [
    "2. Logical Operators: These operators are used to combine two or more conditions and create a more complex condition. Here are the most commonly used logical operators:\n",
    "* `and` (returns `True` if both conditions are true)\n",
    "* `or` (returns `True` if either condition is true)\n",
    "* `not` (returns the opposite of the condition)"
   ]
  },
  {
   "cell_type": "markdown",
   "id": "0c4a1f38",
   "metadata": {
    "slideshow": {
     "slide_type": "subslide"
    }
   },
   "source": [
    "3. Identity Operators: These operators are used to compare the memory locations of two objects and determine whether they are the same object or not. Here are the identity operators:\n",
    "* `is` (returns `True` if the two objects are the same object)\n",
    "* `is not` (returns `True` if the two objects are not the same object)"
   ]
  },
  {
   "cell_type": "markdown",
   "id": "a9b8a675",
   "metadata": {
    "slideshow": {
     "slide_type": "subslide"
    }
   },
   "source": [
    "4. Membership Operators: These operators are used to check whether a value is a member of a sequence (such as a list, tuple, or string). Here are the membership operators:\n",
    "* `in` (returns `True` if the value is in the sequence)\n",
    "* `not in` (returns `True` if the value is not in the sequence)"
   ]
  },
  {
   "cell_type": "code",
   "execution_count": 11,
   "id": "8107b7f9",
   "metadata": {
    "slideshow": {
     "slide_type": "subslide"
    }
   },
   "outputs": [
    {
     "name": "stdout",
     "output_type": "stream",
     "text": [
      "x is 5 and 2 is in y\n"
     ]
    }
   ],
   "source": [
    "x = 5\n",
    "y = [1, 2, 3]\n",
    "\n",
    "if x == 5 and 2 in y:\n",
    "    print(\"x is 5 and 2 is in y\")\n",
    "else:\n",
    "    print(\"condition not met\")\n"
   ]
  },
  {
   "cell_type": "markdown",
   "id": "75637581",
   "metadata": {
    "slideshow": {
     "slide_type": "fragment"
    }
   },
   "source": [
    "In this example, the `if` statement combines a comparison operator (`==`) and a membership operator (`in`) using the logical operator and. If `x` is equal to 5 and the value 2 is in the list `y`, the program will display the message \"x is 5 and 2 is in y\". Otherwise, the program will display the message \"condition not met\"."
   ]
  },
  {
   "cell_type": "markdown",
   "id": "2d157e3c",
   "metadata": {
    "slideshow": {
     "slide_type": "slide"
    }
   },
   "source": [
    "# Loops\n",
    "\n",
    "Python also provides other conditional statements that you can use to make decisions in your programs. Here are some examples:\n",
    "\n",
    "1. `while`: This statement is used to repeatedly execute a block of code as long as a certain condition is true. Here is an example:"
   ]
  },
  {
   "cell_type": "code",
   "execution_count": 12,
   "id": "c2da8396",
   "metadata": {
    "slideshow": {
     "slide_type": "fragment"
    }
   },
   "outputs": [
    {
     "name": "stdout",
     "output_type": "stream",
     "text": [
      "0\n",
      "1\n",
      "2\n",
      "3\n",
      "4\n"
     ]
    }
   ],
   "source": [
    "i = 0\n",
    "while i < 5:\n",
    "    print(i)\n",
    "    i += 1"
   ]
  },
  {
   "cell_type": "markdown",
   "id": "6de8c7fb",
   "metadata": {
    "slideshow": {
     "slide_type": "subslide"
    }
   },
   "source": [
    "2. `for`: This statement is used to loop over a sequence (such as a list, tuple, or string) and execute a block of code for each item in the sequence. Here is an example:"
   ]
  },
  {
   "cell_type": "code",
   "execution_count": 13,
   "id": "82291484",
   "metadata": {
    "slideshow": {
     "slide_type": "fragment"
    }
   },
   "outputs": [
    {
     "name": "stdout",
     "output_type": "stream",
     "text": [
      "apple\n",
      "banana\n",
      "cherry\n"
     ]
    }
   ],
   "source": [
    "fruits = ['apple', 'banana', 'cherry']\n",
    "for fruit in fruits:\n",
    "    print(fruit)"
   ]
  },
  {
   "cell_type": "markdown",
   "id": "ce024521",
   "metadata": {
    "slideshow": {
     "slide_type": "subslide"
    }
   },
   "source": [
    "You can control what happens inside the loops further with:\n",
    "\n",
    "* `break` statement, to skip further code exectution and iterations"
   ]
  },
  {
   "cell_type": "code",
   "execution_count": 14,
   "id": "4c68d2cb",
   "metadata": {
    "slideshow": {
     "slide_type": "fragment"
    }
   },
   "outputs": [
    {
     "name": "stdout",
     "output_type": "stream",
     "text": [
      "apple\n"
     ]
    }
   ],
   "source": [
    "fruits = ['apple', 'banana', 'cherry']\n",
    "for fruit in fruits:\n",
    "    if fruit == 'banana':\n",
    "        break\n",
    "    print(fruit)"
   ]
  },
  {
   "cell_type": "markdown",
   "id": "83fe43f5",
   "metadata": {
    "slideshow": {
     "slide_type": "subslide"
    }
   },
   "source": [
    "* `continue` continues with the next iteration of the loop:"
   ]
  },
  {
   "cell_type": "code",
   "execution_count": 15,
   "id": "e8eb6240",
   "metadata": {
    "slideshow": {
     "slide_type": "fragment"
    }
   },
   "outputs": [
    {
     "name": "stdout",
     "output_type": "stream",
     "text": [
      "apple\n",
      "cherry\n"
     ]
    }
   ],
   "source": [
    "fruits = ['apple', 'banana', 'cherry']\n",
    "for fruit in fruits:\n",
    "    if fruit == 'banana':\n",
    "        continue\n",
    "    print(fruit)"
   ]
  },
  {
   "cell_type": "markdown",
   "id": "1d860199",
   "metadata": {
    "slideshow": {
     "slide_type": "slide"
    }
   },
   "source": [
    "# Functions\n",
    "\n",
    "In Python, a function is a block of reusable code that performs a specific task. Functions are used to break down larger programs into smaller, more manageable pieces, making it easier to read, write, and maintain code. A function in Python is defined using the `def` keyword followed by the function name and any parameters the function may take. A function can accept zero or more parameters, and the parameters can be of any data type, including other functions. An example:"
   ]
  },
  {
   "cell_type": "code",
   "execution_count": 16,
   "id": "c276e3ea",
   "metadata": {
    "slideshow": {
     "slide_type": "fragment"
    }
   },
   "outputs": [],
   "source": [
    "def add_numbers(x, y):\n",
    "    return x + y"
   ]
  },
  {
   "cell_type": "code",
   "execution_count": 17,
   "id": "cd5a8648",
   "metadata": {
    "slideshow": {
     "slide_type": "fragment"
    }
   },
   "outputs": [
    {
     "name": "stdout",
     "output_type": "stream",
     "text": [
      "8\n"
     ]
    }
   ],
   "source": [
    "result = add_numbers(3, 5)\n",
    "print(result)"
   ]
  },
  {
   "cell_type": "markdown",
   "id": "13abb47a",
   "metadata": {
    "slideshow": {
     "slide_type": "subslide"
    }
   },
   "source": [
    "Let us see what types of function arguments there are in Python:\n",
    "\n",
    "1. Positional arguments: These are the most common type of arguments in Python, and they are passed to the function in the order in which they are defined. For example:"
   ]
  },
  {
   "cell_type": "code",
   "execution_count": 18,
   "id": "4ab00237",
   "metadata": {
    "slideshow": {
     "slide_type": "fragment"
    }
   },
   "outputs": [
    {
     "name": "stdout",
     "output_type": "stream",
     "text": [
      "Hello John\n"
     ]
    }
   ],
   "source": [
    "def greet(name, greeting):\n",
    "    print(greeting, name)\n",
    "\n",
    "greet('John', 'Hello')"
   ]
  },
  {
   "cell_type": "markdown",
   "id": "94ce575c",
   "metadata": {
    "slideshow": {
     "slide_type": "subslide"
    }
   },
   "source": [
    "2. Keyword arguments: These are arguments that are passed to the function using their parameter name, and can be provided in any order. For example:"
   ]
  },
  {
   "cell_type": "code",
   "execution_count": 19,
   "id": "5723d925",
   "metadata": {
    "slideshow": {
     "slide_type": "fragment"
    }
   },
   "outputs": [
    {
     "name": "stdout",
     "output_type": "stream",
     "text": [
      "Hi Alice\n"
     ]
    }
   ],
   "source": [
    "def greet(name, greeting):\n",
    "    print(greeting, name)\n",
    "\n",
    "greet(greeting='Hi', name='Alice')"
   ]
  },
  {
   "cell_type": "markdown",
   "id": "2b9d4490",
   "metadata": {
    "slideshow": {
     "slide_type": "subslide"
    }
   },
   "source": [
    "3. Default arguments: These are arguments that have a default value specified in the function definition, and are used if the caller does not provide a value for that argument. For example:"
   ]
  },
  {
   "cell_type": "code",
   "execution_count": 20,
   "id": "783c43b3",
   "metadata": {
    "slideshow": {
     "slide_type": "fragment"
    }
   },
   "outputs": [
    {
     "name": "stdout",
     "output_type": "stream",
     "text": [
      "Hello Bob\n",
      "Ciao Andrea\n"
     ]
    }
   ],
   "source": [
    "def greet(name, greeting='Hello'):\n",
    "    print(greeting, name)\n",
    "\n",
    "greet('Bob')\n",
    "greet('Andrea', 'Ciao')"
   ]
  },
  {
   "cell_type": "markdown",
   "id": "4ee6ab64",
   "metadata": {
    "slideshow": {
     "slide_type": "subslide"
    }
   },
   "source": [
    "4. Variable-length arguments: These are arguments that allow a function to accept any number of arguments. In Python, there are two types of variable-length arguments:\n",
    "* `*args`: This allows a function to accept an arbitrary number of positional arguments. For example:"
   ]
  },
  {
   "cell_type": "code",
   "execution_count": 21,
   "id": "83f365ad",
   "metadata": {
    "slideshow": {
     "slide_type": "fragment"
    }
   },
   "outputs": [
    {
     "name": "stdout",
     "output_type": "stream",
     "text": [
      "Hello Alice\n",
      "Hello Bob\n",
      "Hello Charlie\n"
     ]
    }
   ],
   "source": [
    "def greet(*names):\n",
    "    for name in names:\n",
    "        print('Hello', name)\n",
    "\n",
    "greet('Alice', 'Bob', 'Charlie')"
   ]
  },
  {
   "cell_type": "markdown",
   "id": "dd3cb1be",
   "metadata": {
    "slideshow": {
     "slide_type": "subslide"
    }
   },
   "source": [
    "* `**kwargs`: This allows a function to accept an arbitrary number of keyword arguments. For example:"
   ]
  },
  {
   "cell_type": "code",
   "execution_count": 22,
   "id": "b8ba370e",
   "metadata": {
    "slideshow": {
     "slide_type": "fragment"
    }
   },
   "outputs": [
    {
     "name": "stdout",
     "output_type": "stream",
     "text": [
      "Hi Alice\n",
      "Hello Bob\n",
      "Ciao Andrea\n"
     ]
    }
   ],
   "source": [
    "def greet(**kwargs):\n",
    "    for name, greeting in kwargs.items():\n",
    "        print(greeting, name)\n",
    "\n",
    "greet(Alice='Hi', Bob='Hello', Andrea='Ciao')"
   ]
  },
  {
   "cell_type": "markdown",
   "id": "23016c25",
   "metadata": {
    "slideshow": {
     "slide_type": "slide"
    }
   },
   "source": [
    "# Homeworks\n",
    "\n",
    "a) Test other combinations of conditional statements, operators, loops and function calls with different parameters\n",
    "\n",
    "b) From the last time..."
   ]
  },
  {
   "cell_type": "code",
   "execution_count": 23,
   "id": "c699d7f8",
   "metadata": {
    "slideshow": {
     "slide_type": "fragment"
    }
   },
   "outputs": [
    {
     "name": "stdout",
     "output_type": "stream",
     "text": [
      "olleH\n",
      "dlroW\n"
     ]
    }
   ],
   "source": [
    "for token in 'Hello World'.split(' '):\n",
    "    print(token[::-1])"
   ]
  },
  {
   "cell_type": "markdown",
   "id": "8eccaf5e",
   "metadata": {
    "slideshow": {
     "slide_type": "fragment"
    }
   },
   "source": [
    "Extra tasks:\n",
    "* Could you make it a one-liner? Hint: list comprehension\n",
    "* Can you capitalize the initial letter? Ie. the output would be: \"Olleh Dlrow\""
   ]
  },
  {
   "cell_type": "markdown",
   "id": "5ccae23d",
   "metadata": {
    "slideshow": {
     "slide_type": "subslide"
    }
   },
   "source": [
    "c) Have a look at `switch` command, how it relates to `if`?"
   ]
  },
  {
   "cell_type": "markdown",
   "id": "67cfef16",
   "metadata": {
    "slideshow": {
     "slide_type": "fragment"
    }
   },
   "source": [
    "\n",
    "-------------------------------\n",
    "\n",
    "Again, these materials were created using Chat GPT and other online resources. Feel free to use it as well."
   ]
  }
 ],
 "metadata": {
  "celltoolbar": "Slideshow",
  "kernelspec": {
   "display_name": "Python 3 (ipykernel)",
   "language": "python",
   "name": "python3"
  },
  "language_info": {
   "codemirror_mode": {
    "name": "ipython",
    "version": 3
   },
   "file_extension": ".py",
   "mimetype": "text/x-python",
   "name": "python",
   "nbconvert_exporter": "python",
   "pygments_lexer": "ipython3",
   "version": "3.10.8"
  }
 },
 "nbformat": 4,
 "nbformat_minor": 5
}
