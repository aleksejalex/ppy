{
 "cells": [
  {
   "cell_type": "markdown",
   "id": "7ed8199c",
   "metadata": {
    "slideshow": {
     "slide_type": "slide"
    }
   },
   "source": [
    "# Welcome to PPY lecture #4, March 7 2023\n",
    "\n",
    "1. Introduction to manipulation with files and directories\n",
    "2. Practice on the topics from the last time"
   ]
  },
  {
   "cell_type": "markdown",
   "id": "b8d9f697",
   "metadata": {
    "slideshow": {
     "slide_type": "slide"
    }
   },
   "source": [
    "# Files and directories — the basics\n",
    "\n",
    "Python provides a straightforward way of reading, writing, and manipulating files, and there are several built-in functions and modules that can help you accomplish this task."
   ]
  },
  {
   "cell_type": "markdown",
   "id": "d8a68d2e",
   "metadata": {
    "slideshow": {
     "slide_type": "subslide"
    }
   },
   "source": [
    "A brief overview of the steps involved in working with files in Python:\n",
    "\n",
    "1. Opening a file: Before you can read from or write to a file, you need to open it using the `open()` function. This function takes two arguments: the filename (including the path if it's not in the current working directory) and the mode in which you want to open the file (read mode, write mode, etc.).\n",
    "\n",
    "2. Reading from a file: Once you have opened a file in read mode, you can use various methods to read its contents. The `read()` method reads the entire contents of the file, while `readline()` reads a single line at a time. You can also use a for loop to read the file line by line.\n",
    "\n",
    "3. Writing to a file: If you want to write data to a file, you need to open it in write mode using the open() function. Once the file is open, you can use the write() method to write data to the file. You can also use the writelines() method to write a list of strings to the file.\n",
    "\n",
    "4. Closing a file: After you are done working with a file, it's a good practice to close it using the close() method. This ensures that all the data you wrote to the file is saved."
   ]
  },
  {
   "cell_type": "markdown",
   "id": "7e45c851",
   "metadata": {
    "slideshow": {
     "slide_type": "subslide"
    }
   },
   "source": [
    "# ⚠️ Danger zone ⚠️\n",
    "\n",
    "**When working with files and directories, be sure to start your `jupyter notebook` in a working directory, where you can not do any harm — delete all files, etc.**"
   ]
  },
  {
   "cell_type": "markdown",
   "id": "b21b4792",
   "metadata": {
    "slideshow": {
     "slide_type": "subslide"
    }
   },
   "source": [
    "An example of how to read from a file in Python:\n",
    "\n",
    "(We will create one first)."
   ]
  },
  {
   "cell_type": "code",
   "execution_count": 1,
   "id": "a4f39958",
   "metadata": {
    "slideshow": {
     "slide_type": "fragment"
    }
   },
   "outputs": [],
   "source": [
    "!echo \"Hello World\" >> example.txt"
   ]
  },
  {
   "cell_type": "code",
   "execution_count": 2,
   "id": "6537e611",
   "metadata": {
    "slideshow": {
     "slide_type": "fragment"
    }
   },
   "outputs": [
    {
     "name": "stdout",
     "output_type": "stream",
     "text": [
      "Hello World\n",
      "\n"
     ]
    }
   ],
   "source": [
    "# Open the file in read mode\n",
    "file = open(\"example.txt\", \"r\")\n",
    "\n",
    "# Read the entire contents of the file\n",
    "contents = file.read()\n",
    "\n",
    "# Print the contents of the file\n",
    "print(contents)\n",
    "\n",
    "# Close the file\n",
    "file.close()"
   ]
  },
  {
   "cell_type": "code",
   "execution_count": 3,
   "id": "f9cd98f3",
   "metadata": {
    "slideshow": {
     "slide_type": "subslide"
    }
   },
   "outputs": [],
   "source": [
    "# Open the file in write mode\n",
    "file = open(\"example.txt\", \"w\")\n",
    "\n",
    "# Write data to the file\n",
    "file.write(\"Hello, world!\")\n",
    "\n",
    "# Close the file\n",
    "file.close()"
   ]
  },
  {
   "cell_type": "markdown",
   "id": "83090e03",
   "metadata": {
    "slideshow": {
     "slide_type": "subslide"
    }
   },
   "source": [
    "In Python, you can use the `os` module to list the contents of a directory and differentiate between directories and files. The `os` module provides a range of functions for interacting with the operating system, including working with files and directories.\n",
    "\n",
    "Here is an example of how to list the contents of a directory and differentiate between directories and files:"
   ]
  },
  {
   "cell_type": "code",
   "execution_count": null,
   "id": "7334ff6a",
   "metadata": {
    "slideshow": {
     "slide_type": "fragment"
    }
   },
   "outputs": [],
   "source": [
    "import os\n",
    "\n",
    "# List the contents of the current directory\n",
    "for filename in os.listdir(\".\"):\n",
    "    # Get the full path of the file/directory\n",
    "    path = os.path.join(\".\", filename)\n",
    "    # Check if the path is a directory\n",
    "    if os.path.isdir(path):\n",
    "        print(f\"{filename} is a directory\")\n",
    "    # Otherwise, it must be a file\n",
    "    else:\n",
    "        print(f\"{filename} is a file\")"
   ]
  },
  {
   "cell_type": "markdown",
   "id": "cfaed8b0",
   "metadata": {
    "slideshow": {
     "slide_type": "subslide"
    }
   },
   "source": [
    "In this example, we use the `listdir()` function to list the contents of the current directory. For each filename in the list, we use the `join()` function to get the full path of the file or directory. We then use the `isdir()` function to check if the path is a directory or a file, and print a message indicating which one it is.\n",
    "\n",
    "You can replace the `.` argument in the `listdir()` function with the path of any directory you want to list the contents of.\n",
    "\n",
    "Note that the `os` module also provides several other functions for working with files and directories, such as `os.path.isfile()`, `os.path.isdir()`, and `os.path.exists()`. These functions can be used to perform more advanced operations on files and directories."
   ]
  },
  {
   "cell_type": "markdown",
   "id": "d19bce67",
   "metadata": {
    "slideshow": {
     "slide_type": "slide"
    }
   },
   "source": [
    "# Files and directories — the most likely reality\n",
    "\n",
    "There are many modules and packages available in Python that can handle different file formats and make it easier to work with files.\n",
    "\n",
    "For example, if you need to work with [CSV](https://en.wikipedia.org/wiki/Comma-separated_values) files, you can use the built-in `csv` [module](https://docs.python.org/3/library/csv.html), which provides functions for reading and writing CSV files. Similarly, if you need to work with [JSON](https://en.wikipedia.org/wiki/JSON) files, you can use the built-in `json` [module](https://docs.python.org/3/library/json.html) to parse and manipulate JSON data.\n",
    "\n",
    "There are also many third-party packages available for working with specific file formats, such as the `Pillow` package for working with images, the `pandas` package for working with tabular data in various formats and styles, and the `numpy` package for working with numerical data.\n",
    "\n",
    "Using these modules and packages can make it easier to read and write data in different file formats, and can save you a lot of time compared to implementing your own file handling code from scratch.\n",
    "\n",
    "However, in some cases, you may still need to work with files directly in Python, for example, if you need to manipulate the raw bytes of a file or if you need to perform some low-level file operations that are not supported by the available modules and packages. But it would be quite rare, and make sure you double-check there is no existing package for the task you need to solve."
   ]
  },
  {
   "cell_type": "markdown",
   "id": "21db5c98",
   "metadata": {
    "slideshow": {
     "slide_type": "slide"
    }
   },
   "source": [
    "# Examples / assignments to practice..."
   ]
  },
  {
   "cell_type": "markdown",
   "id": "8fb416b8",
   "metadata": {
    "slideshow": {
     "slide_type": "subslide"
    }
   },
   "source": [
    "Write a Python function that takes a list of numbers as input and returns a new list that contains only the even numbers from the original list. Use a list comprehension to create the new list."
   ]
  },
  {
   "cell_type": "code",
   "execution_count": 6,
   "id": "b16616ab",
   "metadata": {
    "slideshow": {
     "slide_type": "fragment"
    }
   },
   "outputs": [
    {
     "name": "stdout",
     "output_type": "stream",
     "text": [
      "[2, 4, 6]\n"
     ]
    }
   ],
   "source": [
    "result = even_numbers([1, 2, 3, 4, 5, 6])\n",
    "print(result)"
   ]
  },
  {
   "cell_type": "code",
   "execution_count": 5,
   "id": "5b4cef1d",
   "metadata": {
    "slideshow": {
     "slide_type": "fragment"
    }
   },
   "outputs": [],
   "source": [
    "def even_numbers(numbers):\n",
    "    return [num for num in numbers if num % 2 == 0]"
   ]
  },
  {
   "cell_type": "markdown",
   "id": "c8cc3b85",
   "metadata": {
    "slideshow": {
     "slide_type": "fragment"
    }
   },
   "source": [
    "In this function, we use a list comprehension to create a new list containing only the even numbers from the original list. We start by iterating over each number in the input list using the `for` loop. For each number, we use the modulo operator `%` to check if it's even (i.e., if it has a remainder of 0 when divided by 2). If it is even, we include it in the new list. Finally, we return the resulting list."
   ]
  },
  {
   "cell_type": "markdown",
   "id": "7ccbac07",
   "metadata": {
    "slideshow": {
     "slide_type": "subslide"
    }
   },
   "source": [
    "Write a Python function that takes two lists as input and returns a new list that contains the elements that are common to both input lists. Use a set comprehension to create the new list."
   ]
  },
  {
   "cell_type": "code",
   "execution_count": 8,
   "id": "fb79e41f",
   "metadata": {
    "slideshow": {
     "slide_type": "fragment"
    }
   },
   "outputs": [
    {
     "name": "stdout",
     "output_type": "stream",
     "text": [
      "[3, 4]\n"
     ]
    }
   ],
   "source": [
    "result = common_elements([1, 2, 3, 4], [3, 4, 5, 6])\n",
    "print(result)"
   ]
  },
  {
   "cell_type": "code",
   "execution_count": 7,
   "id": "e531e72c",
   "metadata": {
    "slideshow": {
     "slide_type": "fragment"
    }
   },
   "outputs": [],
   "source": [
    "def common_elements(list1, list2):\n",
    "    return list(set(list1) & set(list2))"
   ]
  },
  {
   "cell_type": "markdown",
   "id": "6d4d35f8",
   "metadata": {
    "slideshow": {
     "slide_type": "fragment"
    }
   },
   "source": [
    "In this function, we use a set comprehension to create a set containing the elements that are common to both input lists. We start by creating two sets, one for each input list, using the `set` function. We then use the `&` operator to find the intersection of the two sets (i.e., the elements that are in both sets). Finally, we convert the resulting set back to a list and return it."
   ]
  },
  {
   "cell_type": "markdown",
   "id": "a44249f0",
   "metadata": {
    "slideshow": {
     "slide_type": "subslide"
    }
   },
   "source": [
    "Write a Python function that takes a list of numbers as input and returns a generator that yields only the unique numbers in the list. Use a set to keep track of the numbers you've seen so far."
   ]
  },
  {
   "cell_type": "code",
   "execution_count": 10,
   "id": "c18caa71",
   "metadata": {
    "slideshow": {
     "slide_type": "fragment"
    }
   },
   "outputs": [
    {
     "name": "stdout",
     "output_type": "stream",
     "text": [
      "1\n",
      "2\n",
      "3\n",
      "4\n",
      "5\n",
      "6\n",
      "7\n"
     ]
    }
   ],
   "source": [
    "numbers = [1, 2, 2, 3, 4, 4, 5, 6, 6, 7, 7]\n",
    "for unique_num in unique_numbers(numbers):\n",
    "    print(unique_num)"
   ]
  },
  {
   "cell_type": "code",
   "execution_count": 9,
   "id": "7ec6252b",
   "metadata": {
    "slideshow": {
     "slide_type": "fragment"
    }
   },
   "outputs": [],
   "source": [
    "def unique_numbers(numbers):\n",
    "    seen = set()\n",
    "    for num in numbers:\n",
    "        if num not in seen:\n",
    "            seen.add(num)\n",
    "            yield num"
   ]
  },
  {
   "cell_type": "markdown",
   "id": "3ff63719",
   "metadata": {
    "slideshow": {
     "slide_type": "fragment"
    }
   },
   "source": [
    "> One way to think of generators is that they are like functions that can be paused with yield and resumed with g.next(). [..]\n",
    "\n",
    "From https://stackoverflow.com/a/45727729"
   ]
  },
  {
   "cell_type": "markdown",
   "id": "dc34a456",
   "metadata": {
    "slideshow": {
     "slide_type": "subslide"
    }
   },
   "source": [
    "## Homework from the last time today\n",
    "\n",
    "Write a Python function that takes a string as input and returns a dictionary that maps each character in the string to its frequency. Use a dictionary comprehension to create the dictionary."
   ]
  },
  {
   "cell_type": "code",
   "execution_count": 11,
   "id": "9adebe4c",
   "metadata": {
    "slideshow": {
     "slide_type": "fragment"
    }
   },
   "outputs": [
    {
     "name": "stdout",
     "output_type": "stream",
     "text": [
      "{'p': 2, 'e': 1, 'a': 1, 'l': 1}\n"
     ]
    }
   ],
   "source": [
    "def homework(input_str):\n",
    "    return {x: input_str.count(x) for x in set(input_str)}\n",
    "print(homework('apple'))"
   ]
  },
  {
   "cell_type": "markdown",
   "id": "fe483903",
   "metadata": {
    "slideshow": {
     "slide_type": "subslide"
    }
   },
   "source": [
    "# Couple more assignments for practicing 🙂\n",
    "\n",
    "1. Write a function that takes a list of strings as input and returns a dictionary that maps each string to its length. Use a dictionary comprehension to create the dictionary.\n",
    "\n",
    "```\n",
    "strings = ['hello', 'world', 'python', 'comprehensions']\n",
    "result = string_lengths(strings)\n",
    "print(result)  # {'hello': 5, 'world': 5, 'python': 6, 'comprehensions': 14}\n",
    "```\n",
    "\n",
    "2. Write a function that takes a list of strings as input and returns a set containing all the unique words in the strings (i.e., excluding duplicates). Use a set comprehension to create the output set.\n",
    "\n",
    "```\n",
    "strings = ['hello world', 'world python', 'python python']\n",
    "result = unique_words(strings)\n",
    "print(result)  # {'hello', 'world', 'python'}\n",
    "```"
   ]
  },
  {
   "cell_type": "markdown",
   "id": "f56b041b",
   "metadata": {
    "slideshow": {
     "slide_type": "subslide"
    }
   },
   "source": [
    "3. Write a function that takes a dictionary mapping names to ages as input and returns a dictionary mapping ages to lists of names. Use a dictionary comprehension and a list comprehension to create the output dictionary.\n",
    "\n",
    "```\n",
    "name_age = {'Alice': 25, 'Bob': 30, 'Charlie': 25, 'David': 35, 'Eve': 30}\n",
    "result = age_to_names(name_age)\n",
    "print(result)  # {25: ['Alice', 'Charlie'], 30: ['Bob', 'Eve'], 35: ['David']}\n",
    "```"
   ]
  },
  {
   "cell_type": "markdown",
   "id": "a417a822",
   "metadata": {
    "slideshow": {
     "slide_type": "subslide"
    }
   },
   "source": [
    "4. Write a function that takes a list of numbers as input and returns a generator that yields only the numbers that are greater than the average of all the numbers in the input list. Use a generator comprehension to create the generator.\n",
    "\n",
    "```\n",
    "numbers = [1, 2, 3, 4, 5, 6, 7, 8, 9, 10]\n",
    "for num in greater_than_average(numbers):\n",
    "    print(num)\n",
    "# output:\n",
    "# 6\n",
    "# 7\n",
    "# 8\n",
    "# 9\n",
    "# 10\n",
    "```"
   ]
  },
  {
   "cell_type": "markdown",
   "id": "11a3b4a4",
   "metadata": {
    "slideshow": {
     "slide_type": "subslide"
    }
   },
   "source": [
    "5. Write a function that takes a list of numbers as input and returns a set containing all the numbers that are both even and divisible by 3. Use a set comprehension to create the output set.\n",
    "\n",
    "```\n",
    "numbers = [1, 2, 3, 4, 5, 6, 7, 8, 9, 10, 12, 18]\n",
    "result = even_and_divisible_by_three(numbers)\n",
    "print(result)  # {6, 12, 18}\n",
    "```"
   ]
  }
 ],
 "metadata": {
  "celltoolbar": "Slideshow",
  "kernelspec": {
   "display_name": "Python 3 (ipykernel)",
   "language": "python",
   "name": "python3"
  },
  "language_info": {
   "codemirror_mode": {
    "name": "ipython",
    "version": 3
   },
   "file_extension": ".py",
   "mimetype": "text/x-python",
   "name": "python",
   "nbconvert_exporter": "python",
   "pygments_lexer": "ipython3",
   "version": "3.10.8"
  }
 },
 "nbformat": 4,
 "nbformat_minor": 5
}
